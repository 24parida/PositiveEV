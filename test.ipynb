{
 "cells": [
  {
   "cell_type": "code",
   "execution_count": 1,
   "metadata": {},
   "outputs": [
    {
     "name": "stdout",
     "output_type": "stream",
     "text": [
      "   line participant_name  over_odds  under_odds\n",
      "0   5.5          Player1        2.0         NaN\n",
      "1   6.5          Player1        NaN         1.8\n",
      "2   7.5          Player2        1.9         NaN\n",
      "3   8.5          Player2        NaN         2.1\n"
     ]
    }
   ],
   "source": [
    "import pandas as pd\n",
    "\n",
    "# Sample data\n",
    "data = {'line': [5.5, 6.5, 7.5, 8.5],\n",
    "        'odds': [2.0, 1.8, 1.9, 2.1],\n",
    "        'participant_name': ['Player1', 'Player1', 'Player2', 'Player2'],\n",
    "        'over/under': ['over', 'under', 'over', 'under']}\n",
    "\n",
    "df = pd.DataFrame(data)\n",
    "\n",
    "pivot_df = pd.pivot_table(df, values='odds', index=['line', 'participant_name'], columns='over/under').reset_index()\n",
    "pivot_df.columns = ['line', 'participant_name', 'over_odds', 'under_odds']\n",
    "result_df = pivot_df.groupby('participant_name', as_index=False).agg('first')"
   ]
  }
 ],
 "metadata": {
  "kernelspec": {
   "display_name": "base",
   "language": "python",
   "name": "python3"
  },
  "language_info": {
   "codemirror_mode": {
    "name": "ipython",
    "version": 3
   },
   "file_extension": ".py",
   "mimetype": "text/x-python",
   "name": "python",
   "nbconvert_exporter": "python",
   "pygments_lexer": "ipython3",
   "version": "3.9.12"
  },
  "orig_nbformat": 4
 },
 "nbformat": 4,
 "nbformat_minor": 2
}
