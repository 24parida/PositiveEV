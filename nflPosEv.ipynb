{
 "cells": [
  {
   "cell_type": "code",
   "execution_count": 104,
   "metadata": {},
   "outputs": [],
   "source": [
    "import requests\n",
    "import urllib\n",
    "from datetime import datetime\n",
    "import pandas as pd\n",
    "import time\n",
    "import asyncio\n",
    "\n",
    "BASE_URL = 'https://api.prop-odds.com'\n",
    "API_KEY = 'jQWNvuSMdB1SiXsWxDgmRzzHUMDQyQXBLZ95WmFI'\n",
    "\n",
    "#### first four methods are adapted from prop-odds @ https://github.com/M4THYOU/prop_odds_python_example/blob/main/main.py\n",
    "def get_request(url):\n",
    "    response = requests.get(url)\n",
    "    if response.status_code == 200:\n",
    "        return response.json()\n",
    "\n",
    "    # print('Request failed with status:', response.status_code)\n",
    "    return {}\n",
    "\n",
    "\n",
    "def get_nfl_games():\n",
    "    now = datetime.now()\n",
    "    query_params = {\n",
    "        'date': now.strftime('%Y-%m-%d'),\n",
    "        'tz': 'America/New_York',\n",
    "        'api_key': API_KEY,\n",
    "    }\n",
    "    params = urllib.parse.urlencode(query_params)\n",
    "    url = BASE_URL + '/beta/games/nfl?' + params\n",
    "    return get_request(url)\n",
    "\n",
    "def get_nba_games():\n",
    "    now = datetime.now()\n",
    "    query_params = {\n",
    "        'date': now.strftime('%Y-%m-%d'),\n",
    "        'tz': 'America/New_York',\n",
    "        'api_key': API_KEY,\n",
    "    }\n",
    "    params = urllib.parse.urlencode(query_params)\n",
    "    url = BASE_URL + '/beta/games/nba?' + params\n",
    "    return get_request(url)\n",
    "\n",
    "\n",
    "def get_most_recent_odds(game_id, market):\n",
    "    query_params = {\n",
    "        'api_key': API_KEY,\n",
    "        'active_only': False,\n",
    "        'end_date_time': \"2024-01-08T00:00:00Z\"\n",
    "    }\n",
    "    params = urllib.parse.urlencode(query_params)\n",
    "    url = BASE_URL + '/beta/odds/' + game_id + '/' + market + '?' + params\n",
    "    return get_request(url)\n",
    "\n",
    "\n",
    "def get_fantasy_lines(game_id, market):\n",
    "    query_params = {\n",
    "        'api_key': API_KEY,\n",
    "        'active_only': False,\n",
    "        'end_date_time': \"2024-01-08T00:00:00Z\"\n",
    "    }\n",
    "\n",
    "    params = urllib.parse.urlencode(query_params)\n",
    "    url = BASE_URL + '/beta/fantasy_lines/' + game_id + '/' + market + '?' + params\n",
    "    return get_request(url)\n"
   ]
  },
  {
   "cell_type": "code",
   "execution_count": 2,
   "metadata": {},
   "outputs": [],
   "source": [
    "#### processing each book\n",
    "\n",
    "## for 0:\n",
    "\n",
    "def process_zero(df):\n",
    "    df = df.copy()\n",
    "    df = df[['handicap', 'odds', 'name']]\n",
    "    df[['participant_name', 'name']] = df['name'].str.rsplit(' ', 1, expand=True)\n",
    "\n",
    "    df = df.dropna()\n",
    "    return df\n",
    "\n",
    "## for 1:\n",
    "\n",
    "def process_one(df):\n",
    "    df = df.copy()\n",
    "    df.dropna()\n",
    "    return df[['handicap', 'odds', 'participant_name', 'name']]\n",
    "\n",
    "## for two and six\n",
    "\n",
    "def process_two_six(df):\n",
    "    df = df.copy()\n",
    "    df = df[['handicap', 'odds', 'name']]\n",
    "\n",
    "    df[['name', 'participant_name']] = df['name'].str.split(' - ', expand=True)\n",
    "    df['participant_name'] = df['participant_name'].str.strip()\n",
    "\n",
    "    df.dropna()\n",
    "\n",
    "    return df\n",
    "\n",
    "## for three and five\n",
    "\n",
    "def process_three_five(df):\n",
    "    df = df.copy()\n",
    "    df = df[['handicap', 'odds', 'name', 'description']]\n",
    "\n",
    "    df[['participant_name', 'description', 'a']] = df['description'].str.rsplit(' ', n=2, expand=True)\n",
    "    df['participant_name'] = df['participant_name'].str.strip()\n",
    "\n",
    "    df = df.drop(columns=['description', 'a'])\n",
    "    df = df.dropna()\n",
    "\n",
    "    return df\n",
    "\n",
    "\n",
    "## for seven and eight\n",
    "\n",
    "def process_seven_eight(df):\n",
    "    df = df.copy()\n",
    "    df = df[['handicap', 'odds', 'name']]\n",
    "\n",
    "    df[['participant_name', 'name', 'a']] = df['name'].str.rsplit(' ', n=2, expand=True)\n",
    "\n",
    "    df = df.drop(columns=['a'])\n",
    "    df = df.dropna()\n",
    "\n",
    "    return df"
   ]
  },
  {
   "cell_type": "code",
   "execution_count": 3,
   "metadata": {},
   "outputs": [],
   "source": [
    "#### for merging all the books\n",
    "\n",
    "## agg\n",
    "def agg(df):    \n",
    "    result_df = df.groupby(['participant_name', 'name']).agg({'handicap': 'first', 'odds': 'median'}).reset_index()\n",
    "    return result_df\n",
    "\n",
    "## pivot\n",
    "def pivot(df):\n",
    "    df = df.copy()\n",
    "    pivot_df = pd.pivot_table(df, values='odds', index=['handicap', 'participant_name'], columns='name').reset_index()\n",
    "    pivot_df.columns = ['line', 'participant_name', 'over_odds', 'under_odds']\n",
    "\n",
    "    return pivot_df\n",
    "\n",
    "## calculate odds\n",
    "## adapted from Ammar Sulmanjee\n",
    "\n",
    "def calculate_odds(x, y):\n",
    "    if x >= 0:\n",
    "        decimal_odds_1 = 1 + x/100\n",
    "    else: \n",
    "        decimal_odds_1 = 1 + 100/abs(x)\n",
    "        \n",
    "    if y >= 0:\n",
    "        decimal_odds_2 = 1 + y/100\n",
    "    else: \n",
    "        decimal_odds_2 = 1 + 100/abs(y)\n",
    "\n",
    "    imp_prob1 = (1 / decimal_odds_1) * 100\n",
    "    imp_prob2 = (1 / decimal_odds_2) * 100\n",
    "\n",
    "    total_implied_prob = round(imp_prob1 + imp_prob2, 4)\n",
    "    fair_prob1 = round(imp_prob1 / total_implied_prob * 100, 2)\n",
    "    fair_prob2 = round(imp_prob2 / total_implied_prob * 100, 2)\n",
    "\n",
    "    ## 47, 53 == 100\n",
    "    ## 53 - 50 = 3\n",
    "\n",
    "    return max(fair_prob1, fair_prob2) - 50"
   ]
  },
  {
   "cell_type": "code",
   "execution_count": 5,
   "metadata": {},
   "outputs": [],
   "source": [
    "## each run takes 10 API calls currently (1 for getting games, 1 for underdog, 8 for sportsbooks)\n",
    "bets = pd.DataFrame(columns = ['participant_name', 'ev', 'market', 'line'])\n",
    "\n",
    "## markets we want to check\n",
    "MARKETS = ['player_assisted_tackles_over_under',\n",
    "           'player_assists_over_under',\n",
    "           'player_extra_points_over_under',\n",
    "           'player_field_goals_over_under',\n",
    "           'player_interceptions_over_under',\n",
    "           'player_interceptions_thrown_over_under',\n",
    "           'player_kicking_points_over_under',\n",
    "           'player_passing_and_rushing_yds_over_under',\n",
    "           'player_passing_attempts_over_under',\n",
    "           'player_passing_completions_over_under',\n",
    "           'player_passing_tds_over_under',\n",
    "           'player_passing_yds_over_under',\n",
    "           'player_receiving_yds_over_under',\n",
    "           'player_receptions_over_under',\n",
    "           'player_rushing_and_receiving_yards_over_under',\n",
    "           'player_rushing_attempts_over_under',\n",
    "           'player_rushing_yds_over_under',\n",
    "           'player_sacks_over_under',\n",
    "           'player_tackles_and_assists_over_under',\n",
    "           'player_tackles_over_under',\n",
    "           'player_td_over_under'\n",
    "           ]\n",
    "\n",
    "## steals, \n",
    "\n",
    "MARKETS = [i for i in MARKETS if i != \"player_points_rebounds_over_under\"]\n",
    "\n",
    "## get games\n",
    "games = get_nfl_games()\n",
    "game_ids = [i['game_id'] for i in games['games']]"
   ]
  },
  {
   "cell_type": "code",
   "execution_count": 12,
   "metadata": {},
   "outputs": [
    {
     "data": {
      "text/plain": [
       "{'league': 'nfl',\n",
       " 'date': '2024-01-28',\n",
       " 'games': [{'game_id': '5dc3c50e93bc0f8324b16c2323f87e54',\n",
       "   'away_team': 'Kansas City Chiefs',\n",
       "   'home_team': 'Baltimore Ravens',\n",
       "   'start_timestamp': '2024-01-28T20:00:00Z',\n",
       "   'participants': []},\n",
       "  {'game_id': 'ac621d714ed4d0d3a71737ed8078c3c3',\n",
       "   'away_team': 'Detroit Lions',\n",
       "   'home_team': 'San Francisco 49ers',\n",
       "   'start_timestamp': '2024-01-28T23:30:00Z',\n",
       "   'participants': []}]}"
      ]
     },
     "execution_count": 12,
     "metadata": {},
     "output_type": "execute_result"
    }
   ],
   "source": [
    "games"
   ]
  },
  {
   "cell_type": "code",
   "execution_count": 57,
   "metadata": {},
   "outputs": [],
   "source": [
    "def seven_process(df):\n",
    "    df = df.copy()\n",
    "    df = df[['handicap', 'odds', 'name']]\n",
    "\n",
    "    df[['participant_name', 'name', 'a']] = df['name'].str.rsplit(' ', n=2, expand=True)\n",
    "    df['participant_name'] = df['participant_name'].str.strip()\n",
    "    df['name'] = df['name'].str.strip()\n",
    "\n",
    "\n",
    "    df = df.drop(columns=['a'])\n",
    "    df = df.dropna()\n",
    "\n",
    "    return df"
   ]
  },
  {
   "cell_type": "code",
   "execution_count": 105,
   "metadata": {},
   "outputs": [],
   "source": [
    "g = get_nba_games()"
   ]
  },
  {
   "cell_type": "code",
   "execution_count": 106,
   "metadata": {},
   "outputs": [
    {
     "data": {
      "text/plain": [
       "{'league': 'nba',\n",
       " 'date': '2024-01-28',\n",
       " 'games': [{'game_id': '946b81b1664be33cd90243973f5a9a1c',\n",
       "   'away_team': 'Oklahoma City Thunder',\n",
       "   'home_team': 'Detroit Pistons',\n",
       "   'start_timestamp': '2024-01-28T19:00:00Z',\n",
       "   'participants': []},\n",
       "  {'game_id': '916dcb706add6762c2f407c994d9e8f0',\n",
       "   'away_team': 'Memphis Grizzlies',\n",
       "   'home_team': 'Indiana Pacers',\n",
       "   'start_timestamp': '2024-01-28T20:30:00Z',\n",
       "   'participants': []},\n",
       "  {'game_id': 'b553876d69360a87b409cf9d3038feda',\n",
       "   'away_team': 'Toronto Raptors',\n",
       "   'home_team': 'Atlanta Hawks',\n",
       "   'start_timestamp': '2024-01-28T23:00:00Z',\n",
       "   'participants': []},\n",
       "  {'game_id': 'b2c0aba5327ec51369b623f645e839d6',\n",
       "   'away_team': 'Phoenix Suns',\n",
       "   'home_team': 'Orlando Magic',\n",
       "   'start_timestamp': '2024-01-28T23:00:00Z',\n",
       "   'participants': []},\n",
       "  {'game_id': 'b8dffc15f667f83d6b336530d33c3749',\n",
       "   'away_team': 'Chicago Bulls',\n",
       "   'home_team': 'Portland Trail Blazers',\n",
       "   'start_timestamp': '2024-01-29T02:00:00Z',\n",
       "   'participants': []}]}"
      ]
     },
     "execution_count": 106,
     "metadata": {},
     "output_type": "execute_result"
    }
   ],
   "source": [
    "g"
   ]
  },
  {
   "cell_type": "code",
   "execution_count": 110,
   "metadata": {},
   "outputs": [],
   "source": [
    "g = ['946b81b1664be33cd90243973f5a9a1c']\n",
    "m = [\"player_assists_points_over_under\"]"
   ]
  },
  {
   "cell_type": "code",
   "execution_count": 113,
   "metadata": {},
   "outputs": [
    {
     "data": {
      "text/plain": [
       "['fanduel',\n",
       " 'draftkings',\n",
       " 'caesars',\n",
       " 'betmgm',\n",
       " 'barstool',\n",
       " 'pointsbet',\n",
       " 'fliff']"
      ]
     },
     "execution_count": 113,
     "metadata": {},
     "output_type": "execute_result"
    }
   ],
   "source": [
    "book_odds = get_most_recent_odds(g[0], m[0])\n",
    "books = [book_odds['sportsbooks'][i]['bookie_key'] for i in range(len(book_odds['sportsbooks']))]\n",
    "books\n"
   ]
  },
  {
   "cell_type": "code",
   "execution_count": 97,
   "metadata": {},
   "outputs": [
    {
     "name": "stdout",
     "output_type": "stream",
     "text": [
      "FOUND BET: Lamar Jackson \n",
      " market: player_passing_attempts_over_under \n",
      " line: 29.5 \n",
      " ev: 3.0600000000000023\n",
      "FOUND BET: Patrick Mahomes \n",
      " market: player_passing_tds_over_under \n",
      " line: 1.5 \n",
      " ev: 6.329999999999998\n",
      "FOUND BET: Nelson Agholor \n",
      " market: player_receiving_yds_over_under \n",
      " line: 15.5 \n",
      " ev: 3.0600000000000023\n",
      "FOUND BET: Justice Hill \n",
      " market: player_rushing_attempts_over_under \n",
      " line: 7.5 \n",
      " ev: 42.739999999999995\n",
      "FOUND BET: Lamar Jackson \n",
      " market: player_rushing_yds_over_under \n",
      " line: 65.5 \n",
      " ev: 3.0600000000000023\n"
     ]
    }
   ],
   "source": [
    "for game in g:\n",
    "    for market in MARKETS:\n",
    "        try:\n",
    "            ud_odds = get_fantasy_lines(game, market)\n",
    "            book_odds = get_most_recent_odds(game, market)\n",
    "\n",
    "            ud = pd.DataFrame.from_dict(ud_odds['fantasy_books'][2]['market']['lines'])\n",
    "            ud = ud[['participant_name', 'line']]\n",
    "            ud.columns = [ud.columns[0], 'handicap']\n",
    "\n",
    "            seven = pd.DataFrame.from_dict(book_odds['sportsbooks'][7]['market']['outcomes'])\n",
    "            seven = seven_process(seven)\n",
    "\n",
    "            seven = pd.merge(seven, ud, how='inner', on = ['participant_name', 'handicap'])\n",
    "            seven = pivot(seven)\n",
    "\n",
    "            seven['ev']= seven.apply(lambda row: calculate_odds(row['over_odds'], row['under_odds']), axis = 1)\n",
    "            seven = seven.drop(columns=['over_odds', 'under_odds'])\n",
    "            seven = seven.groupby(['participant_name', 'line']).agg({'ev': 'mean'}).reset_index()\n",
    "\n",
    "            seven = seven[seven['ev'] > 3]\n",
    "\n",
    "            if seven.shape[0] > 0:\n",
    "\n",
    "                names = list(seven.participant_name)\n",
    "                lines = list(seven.line)\n",
    "                evs = list(seven.ev)\n",
    "\n",
    "                for i in range(seven.shape[0]):\n",
    "                    print(f\"FOUND BET: {names[i]} \\n market: {market} \\n line: {lines[i]} \\n ev: {evs[i]}\")\n",
    "        except Exception as e:\n",
    "            continue"
   ]
  },
  {
   "cell_type": "code",
   "execution_count": 88,
   "metadata": {},
   "outputs": [],
   "source": [
    "seven = seven[seven['ev'] > 3]"
   ]
  },
  {
   "cell_type": "code",
   "execution_count": 89,
   "metadata": {},
   "outputs": [
    {
     "data": {
      "text/plain": [
       "(1, 3)"
      ]
     },
     "execution_count": 89,
     "metadata": {},
     "output_type": "execute_result"
    }
   ],
   "source": [
    "seven.shape"
   ]
  },
  {
   "cell_type": "code",
   "execution_count": 93,
   "metadata": {},
   "outputs": [
    {
     "data": {
      "text/html": [
       "<div>\n",
       "<style scoped>\n",
       "    .dataframe tbody tr th:only-of-type {\n",
       "        vertical-align: middle;\n",
       "    }\n",
       "\n",
       "    .dataframe tbody tr th {\n",
       "        vertical-align: top;\n",
       "    }\n",
       "\n",
       "    .dataframe thead th {\n",
       "        text-align: right;\n",
       "    }\n",
       "</style>\n",
       "<table border=\"1\" class=\"dataframe\">\n",
       "  <thead>\n",
       "    <tr style=\"text-align: right;\">\n",
       "      <th></th>\n",
       "      <th>participant_name</th>\n",
       "      <th>line</th>\n",
       "      <th>ev</th>\n",
       "    </tr>\n",
       "  </thead>\n",
       "  <tbody>\n",
       "    <tr>\n",
       "      <th>0</th>\n",
       "      <td>Lamar Jackson</td>\n",
       "      <td>65.5</td>\n",
       "      <td>3.06</td>\n",
       "    </tr>\n",
       "  </tbody>\n",
       "</table>\n",
       "</div>"
      ],
      "text/plain": [
       "  participant_name  line    ev\n",
       "0    Lamar Jackson  65.5  3.06"
      ]
     },
     "execution_count": 93,
     "metadata": {},
     "output_type": "execute_result"
    }
   ],
   "source": [
    "seven"
   ]
  },
  {
   "cell_type": "code",
   "execution_count": 90,
   "metadata": {},
   "outputs": [
    {
     "data": {
      "text/plain": [
       "True"
      ]
     },
     "execution_count": 90,
     "metadata": {},
     "output_type": "execute_result"
    }
   ],
   "source": [
    "seven.shape[0] > 0"
   ]
  },
  {
   "cell_type": "code",
   "execution_count": 10,
   "metadata": {},
   "outputs": [
    {
     "name": "stdout",
     "output_type": "stream",
     "text": [
      "Request failed with status: 422\n",
      "{}\n",
      "exception 'fantasy_books' player_assisted_tackles_over_under\n",
      "Request failed with status: 422\n",
      "{}\n",
      "exception 'fantasy_books' player_assisted_tackles_over_under\n",
      "{'game_id': '5dc3c50e93bc0f8324b16c2323f87e54', 'fantasy_books': [{'bookie_key': 'underdog', 'market': {'market_key': 'player_assists_over_under', 'lines': [{'timestamp': '2024-01-28T18:25:24.945726', 'game_id': '5dc3c50e93bc0f8324b16c2323f87e54', 'line': 2.0, 'participant': 11519, 'participant_name': 'Justin Reid'}, {'timestamp': '2024-01-28T18:50:22.434429', 'game_id': '5dc3c50e93bc0f8324b16c2323f87e54', 'line': 3.5, 'participant': 11521, 'participant_name': 'Nick Bolton'}, {'timestamp': '2024-01-28T17:35:20.740162', 'game_id': '5dc3c50e93bc0f8324b16c2323f87e54', 'line': 3.0, 'participant': 11692, 'participant_name': 'Roquan Smith'}, {'timestamp': '2024-01-22T18:40:31.303532', 'game_id': '5dc3c50e93bc0f8324b16c2323f87e54', 'line': 2.5, 'participant': 11693, 'participant_name': 'Patrick Queen'}, {'timestamp': '2024-01-22T18:40:31.303396', 'game_id': '5dc3c50e93bc0f8324b16c2323f87e54', 'line': 1.5, 'participant': 11694, 'participant_name': 'Marcus Williams'}, {'timestamp': '2024-01-22T18:40:31.303291', 'game_id': '5dc3c50e93bc0f8324b16c2323f87e54', 'line': 1.5, 'participant': 11696, 'participant_name': 'Kyle Hamilton'}, {'timestamp': '2024-01-28T19:40:24.994142', 'game_id': '5dc3c50e93bc0f8324b16c2323f87e54', 'line': 3.0, 'participant': 11968, 'participant_name': 'Fred Warner'}, {'timestamp': '2024-01-28T18:45:21.753290', 'game_id': '5dc3c50e93bc0f8324b16c2323f87e54', 'line': 2.5, 'participant': 13702, 'participant_name': 'Drue Tranquill'}]}}]}\n",
      "exception list index out of range player_assists_over_under\n",
      "{'game_id': 'ac621d714ed4d0d3a71737ed8078c3c3', 'fantasy_books': [{'bookie_key': 'underdog', 'market': {'market_key': 'player_assists_over_under', 'lines': [{'timestamp': '2024-01-22T19:15:24.728598', 'game_id': 'ac621d714ed4d0d3a71737ed8078c3c3', 'line': 2.5, 'participant': 10856, 'participant_name': 'Alex Anzalone'}, {'timestamp': '2024-01-22T22:40:06.928500', 'game_id': 'ac621d714ed4d0d3a71737ed8078c3c3', 'line': 3.0, 'participant': 11968, 'participant_name': 'Fred Warner'}, {'timestamp': '2024-01-22T10:40:25.053660', 'game_id': 'ac621d714ed4d0d3a71737ed8078c3c3', 'line': 3.0, 'participant': 11969, 'participant_name': 'Dre Greenlaw'}, {'timestamp': '2024-01-22T10:40:25.053938', 'game_id': 'ac621d714ed4d0d3a71737ed8078c3c3', 'line': 1.5, 'participant': 13188, 'participant_name': 'Brian Branch'}]}}]}\n",
      "exception list index out of range player_assists_over_under\n",
      "Request failed with status: 422\n",
      "{}\n",
      "exception 'fantasy_books' player_extra_points_over_under\n",
      "Request failed with status: 422\n",
      "{}\n",
      "exception 'fantasy_books' player_extra_points_over_under\n",
      "{'game_id': '5dc3c50e93bc0f8324b16c2323f87e54', 'fantasy_books': [{'bookie_key': 'underdog', 'market': {'market_key': 'player_field_goals_over_under', 'lines': [{'timestamp': '2024-01-22T14:40:29.359684', 'game_id': '5dc3c50e93bc0f8324b16c2323f87e54', 'line': 1.5, 'participant': 10657, 'participant_name': 'Harrison Butker'}, {'timestamp': '2024-01-28T18:40:26.994338', 'game_id': '5dc3c50e93bc0f8324b16c2323f87e54', 'line': 1.5, 'participant': 11536, 'participant_name': 'Justin Tucker'}, {'timestamp': '2024-01-28T19:05:26.442544', 'game_id': '5dc3c50e93bc0f8324b16c2323f87e54', 'line': 1.5, 'participant': 11546, 'participant_name': 'Jake Moody'}]}}]}\n",
      "exception list index out of range player_field_goals_over_under\n",
      "{'game_id': 'ac621d714ed4d0d3a71737ed8078c3c3', 'fantasy_books': [{'bookie_key': 'underdog', 'market': {'market_key': 'player_field_goals_over_under', 'lines': [{'timestamp': '2024-01-22T10:40:25.048810', 'game_id': 'ac621d714ed4d0d3a71737ed8078c3c3', 'line': 1.5, 'participant': 11546, 'participant_name': 'Jake Moody'}]}}]}\n",
      "exception list index out of range player_field_goals_over_under\n",
      "Request failed with status: 422\n",
      "{}\n",
      "exception 'fantasy_books' player_interceptions_over_under\n",
      "Request failed with status: 422\n",
      "{}\n",
      "exception 'fantasy_books' player_interceptions_over_under\n",
      "{'game_id': '5dc3c50e93bc0f8324b16c2323f87e54', 'fantasy_books': [{'bookie_key': 'draftkings', 'market': {'market_key': 'player_interceptions_thrown_over_under', 'lines': [{'timestamp': '2024-01-24T00:45:02.883911', 'game_id': '5dc3c50e93bc0f8324b16c2323f87e54', 'line': 0.5, 'participant': 8656, 'participant_name': 'Patrick Mahomes'}, {'timestamp': '2024-01-24T00:45:02.883958', 'game_id': '5dc3c50e93bc0f8324b16c2323f87e54', 'line': 0.5, 'participant': 9613, 'participant_name': 'Lamar Jackson'}]}}]}\n",
      "exception list index out of range player_interceptions_thrown_over_under\n",
      "{'game_id': 'ac621d714ed4d0d3a71737ed8078c3c3', 'fantasy_books': [{'bookie_key': 'draftkings', 'market': {'market_key': 'player_interceptions_thrown_over_under', 'lines': [{'timestamp': '2024-01-24T00:45:02.884050', 'game_id': 'ac621d714ed4d0d3a71737ed8078c3c3', 'line': 0.5, 'participant': 9599, 'participant_name': 'Jared Goff'}, {'timestamp': '2024-01-24T00:45:02.884118', 'game_id': 'ac621d714ed4d0d3a71737ed8078c3c3', 'line': 0.5, 'participant': 10625, 'participant_name': 'Brock Purdy'}]}}]}\n",
      "exception list index out of range player_interceptions_thrown_over_under\n",
      "{'game_id': '5dc3c50e93bc0f8324b16c2323f87e54', 'fantasy_books': [{'bookie_key': 'draftkings', 'market': {'market_key': 'player_kicking_points_over_under', 'lines': [{'timestamp': '2024-01-24T00:45:02.883834', 'game_id': '5dc3c50e93bc0f8324b16c2323f87e54', 'line': 7.5, 'participant': 10657, 'participant_name': 'Harrison Butker'}, {'timestamp': '2024-01-24T00:45:02.883981', 'game_id': '5dc3c50e93bc0f8324b16c2323f87e54', 'line': 8.5, 'participant': 11536, 'participant_name': 'Justin Tucker'}]}}, {'bookie_key': 'prizepicks', 'market': {'market_key': 'player_kicking_points_over_under', 'lines': [{'timestamp': '2024-01-28T19:00:19.044244', 'game_id': '5dc3c50e93bc0f8324b16c2323f87e54', 'line': 7.0, 'participant': 10657, 'participant_name': 'Harrison Butker'}, {'timestamp': '2024-01-23T16:55:11.121438', 'game_id': '5dc3c50e93bc0f8324b16c2323f87e54', 'line': 7.5, 'participant': 11536, 'participant_name': 'Justin Tucker'}]}}, {'bookie_key': 'underdog', 'market': {'market_key': 'player_kicking_points_over_under', 'lines': [{'timestamp': '2024-01-22T14:40:29.359763', 'game_id': '5dc3c50e93bc0f8324b16c2323f87e54', 'line': 6.5, 'participant': 10657, 'participant_name': 'Harrison Butker'}, {'timestamp': '2024-01-22T14:40:29.359719', 'game_id': '5dc3c50e93bc0f8324b16c2323f87e54', 'line': 7.5, 'participant': 11536, 'participant_name': 'Justin Tucker'}]}}]}\n",
      "exception list index out of range player_kicking_points_over_under\n",
      "{'game_id': 'ac621d714ed4d0d3a71737ed8078c3c3', 'fantasy_books': [{'bookie_key': 'draftkings', 'market': {'market_key': 'player_kicking_points_over_under', 'lines': [{'timestamp': '2024-01-24T00:45:02.884166', 'game_id': 'ac621d714ed4d0d3a71737ed8078c3c3', 'line': 8.5, 'participant': 11546, 'participant_name': 'Jake Moody'}, {'timestamp': '2024-01-24T00:45:02.884073', 'game_id': 'ac621d714ed4d0d3a71737ed8078c3c3', 'line': 6.5, 'participant': 19645, 'participant_name': 'Michael Badgley'}]}}, {'bookie_key': 'prizepicks', 'market': {'market_key': 'player_kicking_points_over_under', 'lines': [{'timestamp': '2024-01-26T23:00:21.100780', 'game_id': 'ac621d714ed4d0d3a71737ed8078c3c3', 'line': 7.5, 'participant': 11546, 'participant_name': 'Jake Moody'}]}}, {'bookie_key': 'underdog', 'market': {'market_key': 'player_kicking_points_over_under', 'lines': [{'timestamp': '2024-01-22T10:40:25.048938', 'game_id': 'ac621d714ed4d0d3a71737ed8078c3c3', 'line': 7.5, 'participant': 11546, 'participant_name': 'Jake Moody'}, {'timestamp': '2024-01-26T22:25:21.389338', 'game_id': 'ac621d714ed4d0d3a71737ed8078c3c3', 'line': 5.5, 'participant': 19645, 'participant_name': 'Michael Badgley'}]}}]}\n",
      "exception list index out of range player_kicking_points_over_under\n",
      "{'game_id': '5dc3c50e93bc0f8324b16c2323f87e54', 'fantasy_books': [{'bookie_key': 'prizepicks', 'market': {'market_key': 'player_passing_and_rushing_yds_over_under', 'lines': [{'timestamp': '2024-01-28T17:50:16.091921', 'game_id': '5dc3c50e93bc0f8324b16c2323f87e54', 'line': 273.5, 'participant': 8656, 'participant_name': 'Patrick Mahomes'}, {'timestamp': '2024-01-26T20:40:17.371854', 'game_id': '5dc3c50e93bc0f8324b16c2323f87e54', 'line': 283.5, 'participant': 9613, 'participant_name': 'Lamar Jackson'}]}}, {'bookie_key': 'underdog', 'market': {'market_key': 'player_passing_and_rushing_yds_over_under', 'lines': [{'timestamp': '2024-01-28T19:10:21.624389', 'game_id': '5dc3c50e93bc0f8324b16c2323f87e54', 'line': 275.5, 'participant': 8656, 'participant_name': 'Patrick Mahomes'}, {'timestamp': '2024-01-28T19:20:21.722595', 'game_id': '5dc3c50e93bc0f8324b16c2323f87e54', 'line': 283.5, 'participant': 9613, 'participant_name': 'Lamar Jackson'}]}}]}\n",
      "exception list index out of range player_passing_and_rushing_yds_over_under\n",
      "{'game_id': 'ac621d714ed4d0d3a71737ed8078c3c3', 'fantasy_books': [{'bookie_key': 'prizepicks', 'market': {'market_key': 'player_passing_and_rushing_yds_over_under', 'lines': [{'timestamp': '2024-01-28T17:05:16.014983', 'game_id': 'ac621d714ed4d0d3a71737ed8078c3c3', 'line': 259.5, 'participant': 9599, 'participant_name': 'Jared Goff'}, {'timestamp': '2024-01-27T01:40:19.515190', 'game_id': 'ac621d714ed4d0d3a71737ed8078c3c3', 'line': 289.5, 'participant': 10625, 'participant_name': 'Brock Purdy'}]}}, {'bookie_key': 'underdog', 'market': {'market_key': 'player_passing_and_rushing_yds_over_under', 'lines': [{'timestamp': '2024-01-28T19:10:21.624985', 'game_id': 'ac621d714ed4d0d3a71737ed8078c3c3', 'line': 261.5, 'participant': 9599, 'participant_name': 'Jared Goff'}, {'timestamp': '2024-01-28T19:10:21.625027', 'game_id': 'ac621d714ed4d0d3a71737ed8078c3c3', 'line': 289.5, 'participant': 10625, 'participant_name': 'Brock Purdy'}]}}]}\n",
      "exception list index out of range player_passing_and_rushing_yds_over_under\n",
      "{'game_id': '5dc3c50e93bc0f8324b16c2323f87e54', 'fantasy_books': [{'bookie_key': 'draftkings', 'market': {'market_key': 'player_passing_attempts_over_under', 'lines': [{'timestamp': '2024-01-24T22:50:03.193496', 'game_id': '5dc3c50e93bc0f8324b16c2323f87e54', 'line': 37.5, 'participant': 8656, 'participant_name': 'Patrick Mahomes'}, {'timestamp': '2024-01-24T22:50:03.193913', 'game_id': '5dc3c50e93bc0f8324b16c2323f87e54', 'line': 29.5, 'participant': 9613, 'participant_name': 'Lamar Jackson'}]}}, {'bookie_key': 'prizepicks', 'market': {'market_key': 'player_passing_attempts_over_under', 'lines': [{'timestamp': '2024-01-28T18:40:21.053782', 'game_id': '5dc3c50e93bc0f8324b16c2323f87e54', 'line': 37.0, 'participant': 8656, 'participant_name': 'Patrick Mahomes'}, {'timestamp': '2024-01-27T17:35:21.521684', 'game_id': '5dc3c50e93bc0f8324b16c2323f87e54', 'line': 29.5, 'participant': 9613, 'participant_name': 'Lamar Jackson'}]}}, {'bookie_key': 'underdog', 'market': {'market_key': 'player_passing_attempts_over_under', 'lines': [{'timestamp': '2024-01-22T18:30:33.399861', 'game_id': '5dc3c50e93bc0f8324b16c2323f87e54', 'line': 36.5, 'participant': 8656, 'participant_name': 'Patrick Mahomes'}, {'timestamp': '2024-01-27T17:15:26.928721', 'game_id': '5dc3c50e93bc0f8324b16c2323f87e54', 'line': 29.5, 'participant': 9613, 'participant_name': 'Lamar Jackson'}]}}]}\n",
      "exception list index out of range player_passing_attempts_over_under\n",
      "{'game_id': 'ac621d714ed4d0d3a71737ed8078c3c3', 'fantasy_books': [{'bookie_key': 'draftkings', 'market': {'market_key': 'player_passing_attempts_over_under', 'lines': [{'timestamp': '2024-01-24T22:50:03.194658', 'game_id': 'ac621d714ed4d0d3a71737ed8078c3c3', 'line': 36.5, 'participant': 9599, 'participant_name': 'Jared Goff'}, {'timestamp': '2024-01-25T21:50:03.318210', 'game_id': 'ac621d714ed4d0d3a71737ed8078c3c3', 'line': 30.5, 'participant': 10625, 'participant_name': 'Brock Purdy'}]}}, {'bookie_key': 'prizepicks', 'market': {'market_key': 'player_passing_attempts_over_under', 'lines': [{'timestamp': '2024-01-27T21:30:20.930401', 'game_id': 'ac621d714ed4d0d3a71737ed8078c3c3', 'line': 35.5, 'participant': 9599, 'participant_name': 'Jared Goff'}, {'timestamp': '2024-01-27T18:15:21.247864', 'game_id': 'ac621d714ed4d0d3a71737ed8078c3c3', 'line': 31.0, 'participant': 10625, 'participant_name': 'Brock Purdy'}]}}, {'bookie_key': 'underdog', 'market': {'market_key': 'player_passing_attempts_over_under', 'lines': [{'timestamp': '2024-01-27T21:15:22.124657', 'game_id': 'ac621d714ed4d0d3a71737ed8078c3c3', 'line': 35.5, 'participant': 9599, 'participant_name': 'Jared Goff'}, {'timestamp': '2024-01-27T21:10:26.473222', 'game_id': 'ac621d714ed4d0d3a71737ed8078c3c3', 'line': 30.5, 'participant': 10625, 'participant_name': 'Brock Purdy'}]}}]}\n",
      "exception list index out of range player_passing_attempts_over_under\n",
      "{'game_id': '5dc3c50e93bc0f8324b16c2323f87e54', 'fantasy_books': [{'bookie_key': 'draftkings', 'market': {'market_key': 'player_passing_completions_over_under', 'lines': [{'timestamp': '2024-01-24T22:50:03.193448', 'game_id': '5dc3c50e93bc0f8324b16c2323f87e54', 'line': 25.5, 'participant': 8656, 'participant_name': 'Patrick Mahomes'}, {'timestamp': '2024-01-24T22:50:03.193868', 'game_id': '5dc3c50e93bc0f8324b16c2323f87e54', 'line': 20.5, 'participant': 9613, 'participant_name': 'Lamar Jackson'}]}}, {'bookie_key': 'prizepicks', 'market': {'market_key': 'player_passing_completions_over_under', 'lines': [{'timestamp': '2024-01-28T19:10:16.923986', 'game_id': '5dc3c50e93bc0f8324b16c2323f87e54', 'line': 24.0, 'participant': 8656, 'participant_name': 'Patrick Mahomes'}, {'timestamp': '2024-01-22T14:35:20.375885', 'game_id': '5dc3c50e93bc0f8324b16c2323f87e54', 'line': 19.5, 'participant': 9613, 'participant_name': 'Lamar Jackson'}]}}, {'bookie_key': 'underdog', 'market': {'market_key': 'player_passing_completions_over_under', 'lines': [{'timestamp': '2024-01-22T18:15:25.829169', 'game_id': '5dc3c50e93bc0f8324b16c2323f87e54', 'line': 24.5, 'participant': 8656, 'participant_name': 'Patrick Mahomes'}, {'timestamp': '2024-01-28T17:35:20.739254', 'game_id': '5dc3c50e93bc0f8324b16c2323f87e54', 'line': 19.5, 'participant': 9613, 'participant_name': 'Lamar Jackson'}]}}]}\n",
      "exception Length mismatch: Expected axis has 2 elements, new values have 4 elements player_passing_completions_over_under\n",
      "{'game_id': 'ac621d714ed4d0d3a71737ed8078c3c3', 'fantasy_books': [{'bookie_key': 'draftkings', 'market': {'market_key': 'player_passing_completions_over_under', 'lines': [{'timestamp': '2024-01-24T22:50:03.194635', 'game_id': 'ac621d714ed4d0d3a71737ed8078c3c3', 'line': 24.5, 'participant': 9599, 'participant_name': 'Jared Goff'}, {'timestamp': '2024-01-25T21:50:03.318133', 'game_id': 'ac621d714ed4d0d3a71737ed8078c3c3', 'line': 20.5, 'participant': 10625, 'participant_name': 'Brock Purdy'}]}}, {'bookie_key': 'prizepicks', 'market': {'market_key': 'player_passing_completions_over_under', 'lines': [{'timestamp': '2024-01-28T13:15:16.681896', 'game_id': 'ac621d714ed4d0d3a71737ed8078c3c3', 'line': 24.5, 'participant': 8656, 'participant_name': 'Patrick Mahomes'}, {'timestamp': '2024-01-28T18:45:16.243459', 'game_id': 'ac621d714ed4d0d3a71737ed8078c3c3', 'line': 24.0, 'participant': 9599, 'participant_name': 'Jared Goff'}, {'timestamp': '2024-01-28T13:35:15.878342', 'game_id': 'ac621d714ed4d0d3a71737ed8078c3c3', 'line': 21.5, 'participant': 10625, 'participant_name': 'Brock Purdy'}]}}, {'bookie_key': 'underdog', 'market': {'market_key': 'player_passing_completions_over_under', 'lines': [{'timestamp': '2024-01-28T19:10:21.624943', 'game_id': 'ac621d714ed4d0d3a71737ed8078c3c3', 'line': 24.5, 'participant': 9599, 'participant_name': 'Jared Goff'}, {'timestamp': '2024-01-25T19:40:05.948711', 'game_id': 'ac621d714ed4d0d3a71737ed8078c3c3', 'line': 21.5, 'participant': 10625, 'participant_name': 'Brock Purdy'}]}}]}\n",
      "exception Length mismatch: Expected axis has 2 elements, new values have 4 elements player_passing_completions_over_under\n",
      "{'game_id': '5dc3c50e93bc0f8324b16c2323f87e54', 'fantasy_books': [{'bookie_key': 'draftkings', 'market': {'market_key': 'player_passing_tds_over_under', 'lines': [{'timestamp': '2024-01-24T00:45:02.883887', 'game_id': '5dc3c50e93bc0f8324b16c2323f87e54', 'line': 1.5, 'participant': 8656, 'participant_name': 'Patrick Mahomes'}]}}, {'bookie_key': 'prizepicks', 'market': {'market_key': 'player_passing_tds_over_under', 'lines': [{'timestamp': '2024-01-22T06:05:19.523231', 'game_id': '5dc3c50e93bc0f8324b16c2323f87e54', 'line': 1.5, 'participant': 8656, 'participant_name': 'Patrick Mahomes'}]}}, {'bookie_key': 'underdog', 'market': {'market_key': 'player_passing_tds_over_under', 'lines': [{'timestamp': '2024-01-22T14:40:29.358365', 'game_id': '5dc3c50e93bc0f8324b16c2323f87e54', 'line': 1.5, 'participant': 8656, 'participant_name': 'Patrick Mahomes'}, {'timestamp': '2024-01-28T19:40:24.994227', 'game_id': '5dc3c50e93bc0f8324b16c2323f87e54', 'line': 2.0, 'participant': 10625, 'participant_name': 'Brock Purdy'}]}}]}\n",
      "exception Length mismatch: Expected axis has 2 elements, new values have 4 elements player_passing_tds_over_under\n",
      "{'game_id': 'ac621d714ed4d0d3a71737ed8078c3c3', 'fantasy_books': [{'bookie_key': 'draftkings', 'market': {'market_key': 'player_passing_tds_over_under', 'lines': [{'timestamp': '2024-01-24T00:45:02.884028', 'game_id': 'ac621d714ed4d0d3a71737ed8078c3c3', 'line': 1.5, 'participant': 9599, 'participant_name': 'Jared Goff'}]}}, {'bookie_key': 'prizepicks', 'market': {'market_key': 'player_passing_tds_over_under', 'lines': [{'timestamp': '2024-01-22T04:30:19.884736', 'game_id': 'ac621d714ed4d0d3a71737ed8078c3c3', 'line': 1.5, 'participant': 9599, 'participant_name': 'Jared Goff'}]}}, {'bookie_key': 'underdog', 'market': {'market_key': 'player_passing_tds_over_under', 'lines': [{'timestamp': '2024-01-22T10:40:25.047065', 'game_id': 'ac621d714ed4d0d3a71737ed8078c3c3', 'line': 1.5, 'participant': 9599, 'participant_name': 'Jared Goff'}, {'timestamp': '2024-01-22T10:40:25.047110', 'game_id': 'ac621d714ed4d0d3a71737ed8078c3c3', 'line': 2.0, 'participant': 10625, 'participant_name': 'Brock Purdy'}]}}]}\n",
      "exception Length mismatch: Expected axis has 2 elements, new values have 4 elements player_passing_tds_over_under\n",
      "{'game_id': '5dc3c50e93bc0f8324b16c2323f87e54', 'fantasy_books': [{'bookie_key': 'draftkings', 'market': {'market_key': 'player_passing_yds_over_under', 'lines': [{'timestamp': '2024-01-24T22:50:03.193353', 'game_id': '5dc3c50e93bc0f8324b16c2323f87e54', 'line': 256.5, 'participant': 8656, 'participant_name': 'Patrick Mahomes'}, {'timestamp': '2024-01-24T22:50:03.193823', 'game_id': '5dc3c50e93bc0f8324b16c2323f87e54', 'line': 222.5, 'participant': 9613, 'participant_name': 'Lamar Jackson'}]}}, {'bookie_key': 'prizepicks', 'market': {'market_key': 'player_passing_yds_over_under', 'lines': [{'timestamp': '2024-01-27T17:40:17.064424', 'game_id': '5dc3c50e93bc0f8324b16c2323f87e54', 'line': 245.5, 'participant': 8656, 'participant_name': 'Patrick Mahomes'}, {'timestamp': '2024-01-28T00:10:16.398957', 'game_id': '5dc3c50e93bc0f8324b16c2323f87e54', 'line': 214.5, 'participant': 9613, 'participant_name': 'Lamar Jackson'}]}}, {'bookie_key': 'underdog', 'market': {'market_key': 'player_passing_yds_over_under', 'lines': [{'timestamp': '2024-01-28T19:20:21.722438', 'game_id': '5dc3c50e93bc0f8324b16c2323f87e54', 'line': 243.5, 'participant': 8656, 'participant_name': 'Patrick Mahomes'}, {'timestamp': '2024-01-28T19:20:21.722485', 'game_id': '5dc3c50e93bc0f8324b16c2323f87e54', 'line': 213.5, 'participant': 9613, 'participant_name': 'Lamar Jackson'}]}}]}\n",
      "exception Length mismatch: Expected axis has 2 elements, new values have 4 elements player_passing_yds_over_under\n",
      "{'game_id': 'ac621d714ed4d0d3a71737ed8078c3c3', 'fantasy_books': [{'bookie_key': 'draftkings', 'market': {'market_key': 'player_passing_yds_over_under', 'lines': [{'timestamp': '2024-01-24T22:50:03.194591', 'game_id': 'ac621d714ed4d0d3a71737ed8078c3c3', 'line': 269.5, 'participant': 9599, 'participant_name': 'Jared Goff'}, {'timestamp': '2024-01-25T21:50:03.318058', 'game_id': 'ac621d714ed4d0d3a71737ed8078c3c3', 'line': 286.5, 'participant': 10625, 'participant_name': 'Brock Purdy'}]}}, {'bookie_key': 'prizepicks', 'market': {'market_key': 'player_passing_yds_over_under', 'lines': [{'timestamp': '2024-01-27T13:45:19.942959', 'game_id': 'ac621d714ed4d0d3a71737ed8078c3c3', 'line': 257.5, 'participant': 9599, 'participant_name': 'Jared Goff'}, {'timestamp': '2024-01-27T18:55:17.329061', 'game_id': 'ac621d714ed4d0d3a71737ed8078c3c3', 'line': 279.5, 'participant': 10625, 'participant_name': 'Brock Purdy'}]}}, {'bookie_key': 'underdog', 'market': {'market_key': 'player_passing_yds_over_under', 'lines': [{'timestamp': '2024-01-28T19:10:21.624900', 'game_id': 'ac621d714ed4d0d3a71737ed8078c3c3', 'line': 258.5, 'participant': 9599, 'participant_name': 'Jared Goff'}, {'timestamp': '2024-01-28T17:35:20.740484', 'game_id': 'ac621d714ed4d0d3a71737ed8078c3c3', 'line': 278.5, 'participant': 10625, 'participant_name': 'Brock Purdy'}]}}]}\n",
      "exception Length mismatch: Expected axis has 2 elements, new values have 4 elements player_passing_yds_over_under\n",
      "{'game_id': '5dc3c50e93bc0f8324b16c2323f87e54', 'fantasy_books': [{'bookie_key': 'draftkings', 'market': {'market_key': 'player_receiving_yds_over_under', 'lines': [{'timestamp': '2024-01-24T22:50:03.194347', 'game_id': '5dc3c50e93bc0f8324b16c2323f87e54', 'line': 53.5, 'participant': 8383, 'participant_name': 'Zay Flowers'}, {'timestamp': '2024-01-24T22:50:03.193708', 'game_id': '5dc3c50e93bc0f8324b16c2323f87e54', 'line': 15.5, 'participant': 8387, 'participant_name': 'Justice Hill'}, {'timestamp': '2024-01-24T22:50:03.194414', 'game_id': '5dc3c50e93bc0f8324b16c2323f87e54', 'line': 67.5, 'participant': 8659, 'participant_name': 'Rashee Rice'}, {'timestamp': '2024-01-24T22:50:03.193958', 'game_id': '5dc3c50e93bc0f8324b16c2323f87e54', 'line': 15.5, 'participant': 9147, 'participant_name': 'Marquez Valdes-Scantling'}, {'timestamp': '2024-01-24T22:50:03.194157', 'game_id': '5dc3c50e93bc0f8324b16c2323f87e54', 'line': 20.5, 'participant': 9601, 'participant_name': 'Isiah Pacheco'}, {'timestamp': '2024-01-24T22:50:03.193251', 'game_id': '5dc3c50e93bc0f8324b16c2323f87e54', 'line': 72.5, 'participant': 9602, 'participant_name': 'Travis Kelce'}, {'timestamp': '2024-01-24T22:50:03.193564', 'game_id': '5dc3c50e93bc0f8324b16c2323f87e54', 'line': 41.5, 'participant': 9614, 'participant_name': 'Mark Andrews'}, {'timestamp': '2024-01-28T15:15:02.850231', 'game_id': '5dc3c50e93bc0f8324b16c2323f87e54', 'line': 8.5, 'participant': 9950, 'participant_name': 'Clyde Edwards-Helaire'}, {'timestamp': '2024-01-24T22:50:03.194102', 'game_id': '5dc3c50e93bc0f8324b16c2323f87e54', 'line': 11.5, 'participant': 10492, 'participant_name': 'Noah Gray'}, {'timestamp': '2024-01-24T22:50:03.193587', 'game_id': '5dc3c50e93bc0f8324b16c2323f87e54', 'line': 2.5, 'participant': 10504, 'participant_name': 'Gus Edwards'}, {'timestamp': '2024-01-24T22:50:03.194004', 'game_id': '5dc3c50e93bc0f8324b16c2323f87e54', 'line': 19.5, 'participant': 10646, 'participant_name': 'Justin Watson'}, {'timestamp': '2024-01-27T18:05:03.223847', 'game_id': '5dc3c50e93bc0f8324b16c2323f87e54', 'line': 22.5, 'participant': 10820, 'participant_name': 'Isaiah Likely'}, {'timestamp': '2024-01-24T22:50:03.193520', 'game_id': '5dc3c50e93bc0f8324b16c2323f87e54', 'line': 26.5, 'participant': 10821, 'participant_name': 'Odell Beckham Jr.'}, {'timestamp': '2024-01-24T22:50:03.194052', 'game_id': '5dc3c50e93bc0f8324b16c2323f87e54', 'line': 27.5, 'participant': 10822, 'participant_name': 'Rashod Bateman'}, {'timestamp': '2024-01-24T22:50:03.193936', 'game_id': '5dc3c50e93bc0f8324b16c2323f87e54', 'line': 18.5, 'participant': 10828, 'participant_name': 'Nelson Agholor'}, {'timestamp': '2024-01-24T22:50:03.193163', 'game_id': '5dc3c50e93bc0f8324b16c2323f87e54', 'line': 10.5, 'participant': 11523, 'participant_name': 'Mecole Hardman Jr.'}]}}, {'bookie_key': 'prizepicks', 'market': {'market_key': 'player_receiving_yds_over_under', 'lines': [{'timestamp': '2024-01-28T15:45:15.578615', 'game_id': '5dc3c50e93bc0f8324b16c2323f87e54', 'line': 45.5, 'participant': 8383, 'participant_name': 'Zay Flowers'}, {'timestamp': '2024-01-27T20:50:19.945200', 'game_id': '5dc3c50e93bc0f8324b16c2323f87e54', 'line': 14.5, 'participant': 8387, 'participant_name': 'Justice Hill'}, {'timestamp': '2024-01-28T15:15:15.923078', 'game_id': '5dc3c50e93bc0f8324b16c2323f87e54', 'line': 61.5, 'participant': 8659, 'participant_name': 'Rashee Rice'}, {'timestamp': '2024-01-27T21:10:16.525446', 'game_id': '5dc3c50e93bc0f8324b16c2323f87e54', 'line': 16.5, 'participant': 9147, 'participant_name': 'Marquez Valdes-Scantling'}, {'timestamp': '2024-01-28T00:10:16.399014', 'game_id': '5dc3c50e93bc0f8324b16c2323f87e54', 'line': 16.5, 'participant': 9601, 'participant_name': 'Isiah Pacheco'}, {'timestamp': '2024-01-27T21:15:15.944550', 'game_id': '5dc3c50e93bc0f8324b16c2323f87e54', 'line': 63.5, 'participant': 9602, 'participant_name': 'Travis Kelce'}, {'timestamp': '2024-01-28T18:05:16.582208', 'game_id': '5dc3c50e93bc0f8324b16c2323f87e54', 'line': 35.5, 'participant': 9614, 'participant_name': 'Mark Andrews'}, {'timestamp': '2024-01-27T18:25:16.943719', 'game_id': '5dc3c50e93bc0f8324b16c2323f87e54', 'line': 5.5, 'participant': 9950, 'participant_name': 'Clyde Edwards-Helaire'}, {'timestamp': '2024-01-28T17:30:16.551819', 'game_id': '5dc3c50e93bc0f8324b16c2323f87e54', 'line': 10.5, 'participant': 10492, 'participant_name': 'Noah Gray'}, {'timestamp': '2024-01-28T15:40:20.496980', 'game_id': '5dc3c50e93bc0f8324b16c2323f87e54', 'line': 4.0, 'participant': 10504, 'participant_name': 'Gus Edwards'}, {'timestamp': '2024-01-27T20:55:15.392791', 'game_id': '5dc3c50e93bc0f8324b16c2323f87e54', 'line': 17.5, 'participant': 10646, 'participant_name': 'Justin Watson'}, {'timestamp': '2024-01-28T19:20:16.135044', 'game_id': '5dc3c50e93bc0f8324b16c2323f87e54', 'line': 11.0, 'participant': 10726, 'participant_name': 'Mecole Hardman'}, {'timestamp': '2024-01-26T22:15:17.602408', 'game_id': '5dc3c50e93bc0f8324b16c2323f87e54', 'line': 21.5, 'participant': 10820, 'participant_name': 'Isaiah Likely'}, {'timestamp': '2024-01-28T00:10:16.399236', 'game_id': '5dc3c50e93bc0f8324b16c2323f87e54', 'line': 22.5, 'participant': 10822, 'participant_name': 'Rashod Bateman'}, {'timestamp': '2024-01-28T00:10:16.399181', 'game_id': '5dc3c50e93bc0f8324b16c2323f87e54', 'line': 16.5, 'participant': 10828, 'participant_name': 'Nelson Agholor'}, {'timestamp': '2024-01-25T18:00:11.745554', 'game_id': '5dc3c50e93bc0f8324b16c2323f87e54', 'line': 20.5, 'participant': 12186, 'participant_name': 'Odell Beckham Jr'}]}}, {'bookie_key': 'underdog', 'market': {'market_key': 'player_receiving_yds_over_under', 'lines': [{'timestamp': '2024-01-28T18:40:26.994128', 'game_id': '5dc3c50e93bc0f8324b16c2323f87e54', 'line': 43.5, 'participant': 8383, 'participant_name': 'Zay Flowers'}, {'timestamp': '2024-01-28T01:40:24.738645', 'game_id': '5dc3c50e93bc0f8324b16c2323f87e54', 'line': 14.5, 'participant': 8387, 'participant_name': 'Justice Hill'}, {'timestamp': '2024-01-28T19:20:21.722810', 'game_id': '5dc3c50e93bc0f8324b16c2323f87e54', 'line': 58.5, 'participant': 8659, 'participant_name': 'Rashee Rice'}, {'timestamp': '2024-01-28T19:20:21.722940', 'game_id': '5dc3c50e93bc0f8324b16c2323f87e54', 'line': 16.5, 'participant': 9147, 'participant_name': 'Marquez Valdes-Scantling'}, {'timestamp': '2024-01-28T19:10:21.624731', 'game_id': '5dc3c50e93bc0f8324b16c2323f87e54', 'line': 17.5, 'participant': 9601, 'participant_name': 'Isiah Pacheco'}, {'timestamp': '2024-01-28T19:20:21.722758', 'game_id': '5dc3c50e93bc0f8324b16c2323f87e54', 'line': 63.5, 'participant': 9602, 'participant_name': 'Travis Kelce'}, {'timestamp': '2024-01-28T19:20:21.722858', 'game_id': '5dc3c50e93bc0f8324b16c2323f87e54', 'line': 33.5, 'participant': 9614, 'participant_name': 'Mark Andrews'}, {'timestamp': '2024-01-28T16:45:21.242705', 'game_id': '5dc3c50e93bc0f8324b16c2323f87e54', 'line': 5.5, 'participant': 9950, 'participant_name': 'Clyde Edwards-Helaire'}, {'timestamp': '2024-01-28T18:40:26.994220', 'game_id': '5dc3c50e93bc0f8324b16c2323f87e54', 'line': 9.5, 'participant': 10492, 'participant_name': 'Noah Gray'}, {'timestamp': '2024-01-28T16:45:21.242489', 'game_id': '5dc3c50e93bc0f8324b16c2323f87e54', 'line': 3.0, 'participant': 10504, 'participant_name': 'Gus Edwards'}, {'timestamp': '2024-01-28T16:40:23.116137', 'game_id': '5dc3c50e93bc0f8324b16c2323f87e54', 'line': 16.5, 'participant': 10646, 'participant_name': 'Justin Watson'}, {'timestamp': '2024-01-28T19:20:21.722904', 'game_id': '5dc3c50e93bc0f8324b16c2323f87e54', 'line': 23.5, 'participant': 10820, 'participant_name': 'Isaiah Likely'}, {'timestamp': '2024-01-28T18:55:23.135217', 'game_id': '5dc3c50e93bc0f8324b16c2323f87e54', 'line': 20.5, 'participant': 10821, 'participant_name': 'Odell Beckham Jr.'}, {'timestamp': '2024-01-28T18:50:22.434206', 'game_id': '5dc3c50e93bc0f8324b16c2323f87e54', 'line': 23.5, 'participant': 10822, 'participant_name': 'Rashod Bateman'}, {'timestamp': '2024-01-28T17:35:20.740002', 'game_id': '5dc3c50e93bc0f8324b16c2323f87e54', 'line': 15.5, 'participant': 10828, 'participant_name': 'Nelson Agholor'}, {'timestamp': '2024-01-28T18:50:22.434170', 'game_id': '5dc3c50e93bc0f8324b16c2323f87e54', 'line': 11.5, 'participant': 11523, 'participant_name': 'Mecole Hardman Jr.'}]}}]}\n",
      "exception Length mismatch: Expected axis has 2 elements, new values have 4 elements player_receiving_yds_over_under\n",
      "{'game_id': 'ac621d714ed4d0d3a71737ed8078c3c3', 'fantasy_books': [{'bookie_key': 'draftkings', 'market': {'market_key': 'player_receiving_yds_over_under', 'lines': [{'timestamp': '2024-01-24T22:50:03.194750', 'game_id': 'ac621d714ed4d0d3a71737ed8078c3c3', 'line': 33.5, 'participant': 8196, 'participant_name': 'Jameson Williams'}, {'timestamp': '2024-01-24T22:50:03.194795', 'game_id': 'ac621d714ed4d0d3a71737ed8078c3c3', 'line': 24.5, 'participant': 9113, 'participant_name': 'Jahmyr Gibbs'}, {'timestamp': '2024-01-24T22:50:03.194705', 'game_id': 'ac621d714ed4d0d3a71737ed8078c3c3', 'line': 89.5, 'participant': 9600, 'participant_name': 'Amon-Ra St. Brown'}, {'timestamp': '2024-01-25T21:50:03.317684', 'game_id': 'ac621d714ed4d0d3a71737ed8078c3c3', 'line': 42.5, 'participant': 9615, 'participant_name': 'Christian Mccaffrey'}, {'timestamp': '2024-01-27T18:05:03.224041', 'game_id': 'ac621d714ed4d0d3a71737ed8078c3c3', 'line': 53.5, 'participant': 9616, 'participant_name': 'Deebo Samuel'}, {'timestamp': '2024-01-25T21:50:03.317602', 'game_id': 'ac621d714ed4d0d3a71737ed8078c3c3', 'line': 68.5, 'participant': 9617, 'participant_name': 'George Kittle'}, {'timestamp': '2024-01-24T22:50:03.194485', 'game_id': 'ac621d714ed4d0d3a71737ed8078c3c3', 'line': 6.5, 'participant': 10487, 'participant_name': 'David Montgomery'}, {'timestamp': '2024-01-24T22:50:03.194907', 'game_id': 'ac621d714ed4d0d3a71737ed8078c3c3', 'line': 55.5, 'participant': 10489, 'participant_name': 'Sam Laporta'}, {'timestamp': '2024-01-24T22:50:03.194681', 'game_id': 'ac621d714ed4d0d3a71737ed8078c3c3', 'line': 38.5, 'participant': 10490, 'participant_name': 'Josh Reynolds'}, {'timestamp': '2024-01-25T21:50:03.317942', 'game_id': 'ac621d714ed4d0d3a71737ed8078c3c3', 'line': 90.5, 'participant': 10506, 'participant_name': 'Brandon Aiyuk'}, {'timestamp': '2024-01-27T18:05:03.224140', 'game_id': 'ac621d714ed4d0d3a71737ed8078c3c3', 'line': 18.5, 'participant': 10627, 'participant_name': 'Jauan Jennings'}, {'timestamp': '2024-01-27T18:05:03.223990', 'game_id': 'ac621d714ed4d0d3a71737ed8078c3c3', 'line': 4.5, 'participant': 10633, 'participant_name': 'Kyle Juszczyk'}]}}, {'bookie_key': 'prizepicks', 'market': {'market_key': 'player_receiving_yds_over_under', 'lines': [{'timestamp': '2024-01-22T13:45:20.691379', 'game_id': 'ac621d714ed4d0d3a71737ed8078c3c3', 'line': 28.5, 'participant': 8196, 'participant_name': 'Jameson Williams'}, {'timestamp': '2024-01-28T17:30:16.551707', 'game_id': 'ac621d714ed4d0d3a71737ed8078c3c3', 'line': 23.5, 'participant': 9113, 'participant_name': 'Jahmyr Gibbs'}, {'timestamp': '2024-01-25T18:00:11.744884', 'game_id': 'ac621d714ed4d0d3a71737ed8078c3c3', 'line': 85.5, 'participant': 9600, 'participant_name': 'Amon-Ra St. Brown'}, {'timestamp': '2024-01-28T00:10:16.398762', 'game_id': 'ac621d714ed4d0d3a71737ed8078c3c3', 'line': 36.5, 'participant': 9615, 'participant_name': 'Christian Mccaffrey'}, {'timestamp': '2024-01-28T15:40:20.496929', 'game_id': 'ac621d714ed4d0d3a71737ed8078c3c3', 'line': 48.5, 'participant': 9616, 'participant_name': 'Deebo Samuel'}, {'timestamp': '2024-01-27T20:55:15.392629', 'game_id': 'ac621d714ed4d0d3a71737ed8078c3c3', 'line': 59.5, 'participant': 9617, 'participant_name': 'George Kittle'}, {'timestamp': '2024-01-23T16:55:11.120130', 'game_id': 'ac621d714ed4d0d3a71737ed8078c3c3', 'line': 5.5, 'participant': 10487, 'participant_name': 'David Montgomery'}, {'timestamp': '2024-01-27T21:35:16.087757', 'game_id': 'ac621d714ed4d0d3a71737ed8078c3c3', 'line': 48.5, 'participant': 10489, 'participant_name': 'Sam Laporta'}, {'timestamp': '2024-01-22T04:30:19.884923', 'game_id': 'ac621d714ed4d0d3a71737ed8078c3c3', 'line': 35.5, 'participant': 10490, 'participant_name': 'Josh Reynolds'}, {'timestamp': '2024-01-28T19:20:16.134976', 'game_id': 'ac621d714ed4d0d3a71737ed8078c3c3', 'line': 78.5, 'participant': 10506, 'participant_name': 'Brandon Aiyuk'}, {'timestamp': '2024-01-27T18:25:16.943574', 'game_id': 'ac621d714ed4d0d3a71737ed8078c3c3', 'line': 17.5, 'participant': 10627, 'participant_name': 'Jauan Jennings'}]}}, {'bookie_key': 'underdog', 'market': {'market_key': 'player_receiving_yds_over_under', 'lines': [{'timestamp': '2024-01-27T23:10:22.870687', 'game_id': 'ac621d714ed4d0d3a71737ed8078c3c3', 'line': 29.5, 'participant': 8196, 'participant_name': 'Jameson Williams'}, {'timestamp': '2024-01-27T17:35:28.138605', 'game_id': 'ac621d714ed4d0d3a71737ed8078c3c3', 'line': 23.5, 'participant': 9113, 'participant_name': 'Jahmyr Gibbs'}, {'timestamp': '2024-01-28T19:10:21.625281', 'game_id': 'ac621d714ed4d0d3a71737ed8078c3c3', 'line': 85.5, 'participant': 9600, 'participant_name': 'Amon-Ra St. Brown'}, {'timestamp': '2024-01-28T19:10:21.625110', 'game_id': 'ac621d714ed4d0d3a71737ed8078c3c3', 'line': 36.5, 'participant': 9615, 'participant_name': 'Christian Mccaffrey'}, {'timestamp': '2024-01-28T19:10:21.625246', 'game_id': 'ac621d714ed4d0d3a71737ed8078c3c3', 'line': 48.5, 'participant': 9616, 'participant_name': 'Deebo Samuel'}, {'timestamp': '2024-01-28T19:10:21.625212', 'game_id': 'ac621d714ed4d0d3a71737ed8078c3c3', 'line': 60.5, 'participant': 9617, 'participant_name': 'George Kittle'}, {'timestamp': '2024-01-28T19:10:21.625350', 'game_id': 'ac621d714ed4d0d3a71737ed8078c3c3', 'line': 6.5, 'participant': 10487, 'participant_name': 'David Montgomery'}, {'timestamp': '2024-01-28T16:30:21.274306', 'game_id': 'ac621d714ed4d0d3a71737ed8078c3c3', 'line': 48.5, 'participant': 10489, 'participant_name': 'Sam Laporta'}, {'timestamp': '2024-01-27T23:10:22.870646', 'game_id': 'ac621d714ed4d0d3a71737ed8078c3c3', 'line': 35.5, 'participant': 10490, 'participant_name': 'Josh Reynolds'}, {'timestamp': '2024-01-28T17:35:20.740999', 'game_id': 'ac621d714ed4d0d3a71737ed8078c3c3', 'line': 77.5, 'participant': 10506, 'participant_name': 'Brandon Aiyuk'}, {'timestamp': '2024-01-27T17:50:25.800804', 'game_id': 'ac621d714ed4d0d3a71737ed8078c3c3', 'line': 17.5, 'participant': 10627, 'participant_name': 'Jauan Jennings'}, {'timestamp': '2024-01-26T22:50:26.046022', 'game_id': 'ac621d714ed4d0d3a71737ed8078c3c3', 'line': 0.5, 'participant': 10633, 'participant_name': 'Kyle Juszczyk'}]}}]}\n",
      "exception Length mismatch: Expected axis has 2 elements, new values have 4 elements player_receiving_yds_over_under\n",
      "{'game_id': '5dc3c50e93bc0f8324b16c2323f87e54', 'fantasy_books': [{'bookie_key': 'draftkings', 'market': {'market_key': 'player_receptions_over_under', 'lines': [{'timestamp': '2024-01-24T22:50:03.194387', 'game_id': '5dc3c50e93bc0f8324b16c2323f87e54', 'line': 4.5, 'participant': 8383, 'participant_name': 'Zay Flowers'}, {'timestamp': '2024-01-24T22:50:03.193779', 'game_id': '5dc3c50e93bc0f8324b16c2323f87e54', 'line': 2.5, 'participant': 8387, 'participant_name': 'Justice Hill'}, {'timestamp': '2024-01-24T22:50:03.194439', 'game_id': '5dc3c50e93bc0f8324b16c2323f87e54', 'line': 5.5, 'participant': 8659, 'participant_name': 'Rashee Rice'}, {'timestamp': '2024-01-24T22:50:03.193981', 'game_id': '5dc3c50e93bc0f8324b16c2323f87e54', 'line': 1.5, 'participant': 9147, 'participant_name': 'Marquez Valdes-Scantling'}, {'timestamp': '2024-01-24T22:50:03.194301', 'game_id': '5dc3c50e93bc0f8324b16c2323f87e54', 'line': 3.5, 'participant': 9601, 'participant_name': 'Isiah Pacheco'}, {'timestamp': '2024-01-24T22:50:03.193303', 'game_id': '5dc3c50e93bc0f8324b16c2323f87e54', 'line': 5.5, 'participant': 9602, 'participant_name': 'Travis Kelce'}, {'timestamp': '2024-01-26T16:30:03.261836', 'game_id': '5dc3c50e93bc0f8324b16c2323f87e54', 'line': 3.5, 'participant': 9614, 'participant_name': 'Mark Andrews'}, {'timestamp': '2024-01-24T22:50:03.194026', 'game_id': '5dc3c50e93bc0f8324b16c2323f87e54', 'line': 1.5, 'participant': 10646, 'participant_name': 'Justin Watson'}, {'timestamp': '2024-01-24T22:50:03.193542', 'game_id': '5dc3c50e93bc0f8324b16c2323f87e54', 'line': 2.5, 'participant': 10821, 'participant_name': 'Odell Beckham Jr.'}, {'timestamp': '2024-01-27T18:05:03.223631', 'game_id': '5dc3c50e93bc0f8324b16c2323f87e54', 'line': 1.5, 'participant': 10828, 'participant_name': 'Nelson Agholor'}, {'timestamp': '2024-01-24T22:50:03.193206', 'game_id': '5dc3c50e93bc0f8324b16c2323f87e54', 'line': 1.5, 'participant': 11523, 'participant_name': 'Mecole Hardman Jr.'}]}}, {'bookie_key': 'prizepicks', 'market': {'market_key': 'player_receptions_over_under', 'lines': [{'timestamp': '2024-01-27T16:45:17.475356', 'game_id': '5dc3c50e93bc0f8324b16c2323f87e54', 'line': 4.0, 'participant': 8383, 'participant_name': 'Zay Flowers'}, {'timestamp': '2024-01-24T17:10:12.099885', 'game_id': '5dc3c50e93bc0f8324b16c2323f87e54', 'line': 6.0, 'participant': 8659, 'participant_name': 'Rashee Rice'}, {'timestamp': '2024-01-22T15:35:18.173187', 'game_id': '5dc3c50e93bc0f8324b16c2323f87e54', 'line': 3.5, 'participant': 9113, 'participant_name': 'Jahmyr Gibbs'}, {'timestamp': '2024-01-27T18:25:16.943648', 'game_id': '5dc3c50e93bc0f8324b16c2323f87e54', 'line': 1.5, 'participant': 9147, 'participant_name': 'Marquez Valdes-Scantling'}, {'timestamp': '2024-01-25T18:00:11.745373', 'game_id': '5dc3c50e93bc0f8324b16c2323f87e54', 'line': 3.0, 'participant': 9601, 'participant_name': 'Isiah Pacheco'}, {'timestamp': '2024-01-22T13:40:21.743554', 'game_id': '5dc3c50e93bc0f8324b16c2323f87e54', 'line': 6.0, 'participant': 9602, 'participant_name': 'Travis Kelce'}, {'timestamp': '2024-01-26T04:25:15.104471', 'game_id': '5dc3c50e93bc0f8324b16c2323f87e54', 'line': 3.5, 'participant': 9614, 'participant_name': 'Mark Andrews'}, {'timestamp': '2024-01-22T15:35:18.173246', 'game_id': '5dc3c50e93bc0f8324b16c2323f87e54', 'line': 1.5, 'participant': 10487, 'participant_name': 'David Montgomery'}, {'timestamp': '2024-01-27T18:25:16.943612', 'game_id': '5dc3c50e93bc0f8324b16c2323f87e54', 'line': 1.5, 'participant': 10646, 'participant_name': 'Justin Watson'}, {'timestamp': '2024-01-23T16:55:11.121010', 'game_id': '5dc3c50e93bc0f8324b16c2323f87e54', 'line': 1.5, 'participant': 10726, 'participant_name': 'Mecole Hardman'}, {'timestamp': '2024-01-27T06:10:16.640978', 'game_id': '5dc3c50e93bc0f8324b16c2323f87e54', 'line': 1.5, 'participant': 10828, 'participant_name': 'Nelson Agholor'}, {'timestamp': '2024-01-25T18:00:11.745524', 'game_id': '5dc3c50e93bc0f8324b16c2323f87e54', 'line': 2.0, 'participant': 12186, 'participant_name': 'Odell Beckham Jr'}]}}, {'bookie_key': 'underdog', 'market': {'market_key': 'player_receptions_over_under', 'lines': [{'timestamp': '2024-01-25T01:40:05.752022', 'game_id': '5dc3c50e93bc0f8324b16c2323f87e54', 'line': 4.0, 'participant': 8383, 'participant_name': 'Zay Flowers'}, {'timestamp': '2024-01-28T02:15:17.692191', 'game_id': '5dc3c50e93bc0f8324b16c2323f87e54', 'line': 2.0, 'participant': 8387, 'participant_name': 'Justice Hill'}, {'timestamp': '2024-01-22T19:50:21.277416', 'game_id': '5dc3c50e93bc0f8324b16c2323f87e54', 'line': 6.0, 'participant': 8659, 'participant_name': 'Rashee Rice'}, {'timestamp': '2024-01-23T19:05:07.521527', 'game_id': '5dc3c50e93bc0f8324b16c2323f87e54', 'line': 1.5, 'participant': 9147, 'participant_name': 'Marquez Valdes-Scantling'}, {'timestamp': '2024-01-22T16:00:27.465842', 'game_id': '5dc3c50e93bc0f8324b16c2323f87e54', 'line': 3.0, 'participant': 9601, 'participant_name': 'Isiah Pacheco'}, {'timestamp': '2024-01-25T19:45:05.612757', 'game_id': '5dc3c50e93bc0f8324b16c2323f87e54', 'line': 6.0, 'participant': 9602, 'participant_name': 'Travis Kelce'}, {'timestamp': '2024-01-27T15:15:27.344358', 'game_id': '5dc3c50e93bc0f8324b16c2323f87e54', 'line': 3.0, 'participant': 9614, 'participant_name': 'Mark Andrews'}, {'timestamp': '2024-01-28T17:25:21.413154', 'game_id': '5dc3c50e93bc0f8324b16c2323f87e54', 'line': 4.5, 'participant': 9617, 'participant_name': 'George Kittle'}, {'timestamp': '2024-01-28T19:40:24.994184', 'game_id': '5dc3c50e93bc0f8324b16c2323f87e54', 'line': 1.5, 'participant': 10487, 'participant_name': 'David Montgomery'}, {'timestamp': '2024-01-28T16:20:22.978872', 'game_id': '5dc3c50e93bc0f8324b16c2323f87e54', 'line': 5.0, 'participant': 10506, 'participant_name': 'Brandon Aiyuk'}, {'timestamp': '2024-01-28T02:15:17.692227', 'game_id': '5dc3c50e93bc0f8324b16c2323f87e54', 'line': 1.5, 'participant': 10646, 'participant_name': 'Justin Watson'}, {'timestamp': '2024-01-28T18:20:27.681534', 'game_id': '5dc3c50e93bc0f8324b16c2323f87e54', 'line': 2.0, 'participant': 10820, 'participant_name': 'Isaiah Likely'}, {'timestamp': '2024-01-22T14:40:29.359544', 'game_id': '5dc3c50e93bc0f8324b16c2323f87e54', 'line': 2.0, 'participant': 10821, 'participant_name': 'Odell Beckham Jr.'}, {'timestamp': '2024-01-28T18:25:24.945691', 'game_id': '5dc3c50e93bc0f8324b16c2323f87e54', 'line': 1.5, 'participant': 10828, 'participant_name': 'Nelson Agholor'}, {'timestamp': '2024-01-28T02:15:17.692294', 'game_id': '5dc3c50e93bc0f8324b16c2323f87e54', 'line': 1.5, 'participant': 11523, 'participant_name': 'Mecole Hardman Jr.'}]}}]}\n",
      "exception list index out of range player_receptions_over_under\n",
      "{'game_id': 'ac621d714ed4d0d3a71737ed8078c3c3', 'fantasy_books': [{'bookie_key': 'draftkings', 'market': {'market_key': 'player_receptions_over_under', 'lines': [{'timestamp': '2024-01-24T22:50:03.194772', 'game_id': 'ac621d714ed4d0d3a71737ed8078c3c3', 'line': 2.5, 'participant': 8196, 'participant_name': 'Jameson Williams'}, {'timestamp': '2024-01-24T22:50:03.194862', 'game_id': 'ac621d714ed4d0d3a71737ed8078c3c3', 'line': 3.5, 'participant': 9113, 'participant_name': 'Jahmyr Gibbs'}, {'timestamp': '2024-01-24T22:50:03.194728', 'game_id': 'ac621d714ed4d0d3a71737ed8078c3c3', 'line': 7.5, 'participant': 9600, 'participant_name': 'Amon-Ra St. Brown'}, {'timestamp': '2024-01-25T21:50:03.317783', 'game_id': 'ac621d714ed4d0d3a71737ed8078c3c3', 'line': 4.5, 'participant': 9615, 'participant_name': 'Christian Mccaffrey'}, {'timestamp': '2024-01-27T18:05:03.224091', 'game_id': 'ac621d714ed4d0d3a71737ed8078c3c3', 'line': 3.5, 'participant': 9616, 'participant_name': 'Deebo Samuel'}, {'timestamp': '2024-01-25T21:50:03.317640', 'game_id': 'ac621d714ed4d0d3a71737ed8078c3c3', 'line': 4.5, 'participant': 9617, 'participant_name': 'George Kittle'}, {'timestamp': '2024-01-24T22:50:03.194955', 'game_id': 'ac621d714ed4d0d3a71737ed8078c3c3', 'line': 5.5, 'participant': 10489, 'participant_name': 'Sam Laporta'}, {'timestamp': '2024-01-27T18:05:03.223898', 'game_id': 'ac621d714ed4d0d3a71737ed8078c3c3', 'line': 3.5, 'participant': 10490, 'participant_name': 'Josh Reynolds'}, {'timestamp': '2024-01-25T21:50:03.317977', 'game_id': 'ac621d714ed4d0d3a71737ed8078c3c3', 'line': 5.5, 'participant': 10506, 'participant_name': 'Brandon Aiyuk'}, {'timestamp': '2024-01-27T18:05:03.224189', 'game_id': 'ac621d714ed4d0d3a71737ed8078c3c3', 'line': 1.5, 'participant': 10627, 'participant_name': 'Jauan Jennings'}]}}, {'bookie_key': 'prizepicks', 'market': {'market_key': 'player_receptions_over_under', 'lines': [{'timestamp': '2024-01-27T13:45:19.943026', 'game_id': 'ac621d714ed4d0d3a71737ed8078c3c3', 'line': 2.5, 'participant': 8196, 'participant_name': 'Jameson Williams'}, {'timestamp': '2024-01-27T16:40:19.545508', 'game_id': 'ac621d714ed4d0d3a71737ed8078c3c3', 'line': 4.5, 'participant': 8383, 'participant_name': 'Zay Flowers'}, {'timestamp': '2024-01-23T18:25:10.671414', 'game_id': 'ac621d714ed4d0d3a71737ed8078c3c3', 'line': 6.5, 'participant': 8659, 'participant_name': 'Rashee Rice'}, {'timestamp': '2024-01-25T18:00:11.744734', 'game_id': 'ac621d714ed4d0d3a71737ed8078c3c3', 'line': 3.5, 'participant': 9113, 'participant_name': 'Jahmyr Gibbs'}, {'timestamp': '2024-01-27T19:05:17.630367', 'game_id': 'ac621d714ed4d0d3a71737ed8078c3c3', 'line': 7.5, 'participant': 9600, 'participant_name': 'Amon-Ra St. Brown'}, {'timestamp': '2024-01-27T16:40:19.545546', 'game_id': 'ac621d714ed4d0d3a71737ed8078c3c3', 'line': 6.0, 'participant': 9602, 'participant_name': 'Travis Kelce'}, {'timestamp': '2024-01-28T19:40:18.230479', 'game_id': 'ac621d714ed4d0d3a71737ed8078c3c3', 'line': 3.5, 'participant': 9614, 'participant_name': 'Mark Andrews'}, {'timestamp': '2024-01-26T22:45:20.894420', 'game_id': 'ac621d714ed4d0d3a71737ed8078c3c3', 'line': 4.5, 'participant': 9615, 'participant_name': 'Christian Mccaffrey'}, {'timestamp': '2024-01-27T18:25:16.943435', 'game_id': 'ac621d714ed4d0d3a71737ed8078c3c3', 'line': 4.0, 'participant': 9616, 'participant_name': 'Deebo Samuel'}, {'timestamp': '2024-01-26T22:45:20.894534', 'game_id': 'ac621d714ed4d0d3a71737ed8078c3c3', 'line': 4.5, 'participant': 9617, 'participant_name': 'George Kittle'}, {'timestamp': '2024-01-22T15:40:21.911765', 'game_id': 'ac621d714ed4d0d3a71737ed8078c3c3', 'line': 1.5, 'participant': 10487, 'participant_name': 'David Montgomery'}, {'timestamp': '2024-01-25T18:00:11.744982', 'game_id': 'ac621d714ed4d0d3a71737ed8078c3c3', 'line': 5.0, 'participant': 10489, 'participant_name': 'Sam Laporta'}, {'timestamp': '2024-01-26T22:45:20.894497', 'game_id': 'ac621d714ed4d0d3a71737ed8078c3c3', 'line': 5.0, 'participant': 10506, 'participant_name': 'Brandon Aiyuk'}, {'timestamp': '2024-01-27T18:25:16.943519', 'game_id': 'ac621d714ed4d0d3a71737ed8078c3c3', 'line': 1.5, 'participant': 10627, 'participant_name': 'Jauan Jennings'}, {'timestamp': '2024-01-27T06:15:16.988893', 'game_id': 'ac621d714ed4d0d3a71737ed8078c3c3', 'line': 0.5, 'participant': 10633, 'participant_name': 'Kyle Juszczyk'}, {'timestamp': '2024-01-28T19:40:18.230510', 'game_id': 'ac621d714ed4d0d3a71737ed8078c3c3', 'line': 1.5, 'participant': 10646, 'participant_name': 'Justin Watson'}, {'timestamp': '2024-01-28T19:40:18.230541', 'game_id': 'ac621d714ed4d0d3a71737ed8078c3c3', 'line': 1.5, 'participant': 10726, 'participant_name': 'Mecole Hardman'}, {'timestamp': '2024-01-28T19:40:18.230571', 'game_id': 'ac621d714ed4d0d3a71737ed8078c3c3', 'line': 1.5, 'participant': 10828, 'participant_name': 'Nelson Agholor'}]}}, {'bookie_key': 'underdog', 'market': {'market_key': 'player_receptions_over_under', 'lines': [{'timestamp': '2024-01-22T10:40:25.048545', 'game_id': 'ac621d714ed4d0d3a71737ed8078c3c3', 'line': 2.5, 'participant': 8196, 'participant_name': 'Jameson Williams'}, {'timestamp': '2024-01-25T19:50:08.174557', 'game_id': 'ac621d714ed4d0d3a71737ed8078c3c3', 'line': 3.5, 'participant': 9113, 'participant_name': 'Jahmyr Gibbs'}, {'timestamp': '2024-01-25T19:45:05.613686', 'game_id': 'ac621d714ed4d0d3a71737ed8078c3c3', 'line': 7.5, 'participant': 9600, 'participant_name': 'Amon-Ra St. Brown'}, {'timestamp': '2024-01-22T10:40:25.047904', 'game_id': 'ac621d714ed4d0d3a71737ed8078c3c3', 'line': 4.5, 'participant': 9615, 'participant_name': 'Christian Mccaffrey'}, {'timestamp': '2024-01-27T17:25:27.952901', 'game_id': 'ac621d714ed4d0d3a71737ed8078c3c3', 'line': 4.0, 'participant': 9616, 'participant_name': 'Deebo Samuel'}, {'timestamp': '2024-01-23T17:10:06.678402', 'game_id': 'ac621d714ed4d0d3a71737ed8078c3c3', 'line': 4.5, 'participant': 9617, 'participant_name': 'George Kittle'}, {'timestamp': '2024-01-22T10:40:25.048362', 'game_id': 'ac621d714ed4d0d3a71737ed8078c3c3', 'line': 1.5, 'participant': 10487, 'participant_name': 'David Montgomery'}, {'timestamp': '2024-01-22T10:40:25.048497', 'game_id': 'ac621d714ed4d0d3a71737ed8078c3c3', 'line': 5.0, 'participant': 10489, 'participant_name': 'Sam Laporta'}, {'timestamp': '2024-01-22T19:15:24.728415', 'game_id': 'ac621d714ed4d0d3a71737ed8078c3c3', 'line': 3.0, 'participant': 10490, 'participant_name': 'Josh Reynolds'}, {'timestamp': '2024-01-28T16:30:21.274185', 'game_id': 'ac621d714ed4d0d3a71737ed8078c3c3', 'line': 5.0, 'participant': 10506, 'participant_name': 'Brandon Aiyuk'}, {'timestamp': '2024-01-27T17:25:27.952983', 'game_id': 'ac621d714ed4d0d3a71737ed8078c3c3', 'line': 1.5, 'participant': 10627, 'participant_name': 'Jauan Jennings'}, {'timestamp': '2024-01-26T22:50:26.045990', 'game_id': 'ac621d714ed4d0d3a71737ed8078c3c3', 'line': 0.5, 'participant': 10633, 'participant_name': 'Kyle Juszczyk'}]}}]}\n",
      "exception list index out of range player_receptions_over_under\n",
      "{'game_id': '5dc3c50e93bc0f8324b16c2323f87e54', 'fantasy_books': [{'bookie_key': 'draftkings', 'market': {'market_key': 'player_rushing_and_receiving_yards_over_under', 'lines': [{'timestamp': '2024-01-24T22:50:03.193801', 'game_id': '5dc3c50e93bc0f8324b16c2323f87e54', 'line': 53.5, 'participant': 8387, 'participant_name': 'Justice Hill'}, {'timestamp': '2024-01-24T22:50:03.194324', 'game_id': '5dc3c50e93bc0f8324b16c2323f87e54', 'line': 92.5, 'participant': 9601, 'participant_name': 'Isiah Pacheco'}, {'timestamp': '2024-01-27T18:05:03.223797', 'game_id': '5dc3c50e93bc0f8324b16c2323f87e54', 'line': 18.5, 'participant': 9950, 'participant_name': 'Clyde Edwards-Helaire'}, {'timestamp': '2024-01-24T22:50:03.193663', 'game_id': '5dc3c50e93bc0f8324b16c2323f87e54', 'line': 47.5, 'participant': 10504, 'participant_name': 'Gus Edwards'}]}}, {'bookie_key': 'prizepicks', 'market': {'market_key': 'player_rushing_and_receiving_yards_over_under', 'lines': [{'timestamp': '2024-01-28T13:35:15.878381', 'game_id': '5dc3c50e93bc0f8324b16c2323f87e54', 'line': 53.5, 'participant': 8387, 'participant_name': 'Justice Hill'}, {'timestamp': '2024-01-25T18:00:11.745325', 'game_id': '5dc3c50e93bc0f8324b16c2323f87e54', 'line': 84.5, 'participant': 9601, 'participant_name': 'Isiah Pacheco'}, {'timestamp': '2024-01-28T13:30:15.989637', 'game_id': '5dc3c50e93bc0f8324b16c2323f87e54', 'line': 16.5, 'participant': 9950, 'participant_name': 'Clyde Edwards-Helaire'}, {'timestamp': '2024-01-26T14:55:16.175651', 'game_id': '5dc3c50e93bc0f8324b16c2323f87e54', 'line': 52.5, 'participant': 10504, 'participant_name': 'Gus Edwards'}]}}, {'bookie_key': 'underdog', 'market': {'market_key': 'player_rushing_and_receiving_yards_over_under', 'lines': [{'timestamp': '2024-01-28T19:40:24.994598', 'game_id': '5dc3c50e93bc0f8324b16c2323f87e54', 'line': 29.5, 'participant': 8196, 'participant_name': 'Jameson Williams'}, {'timestamp': '2024-01-28T02:15:17.692570', 'game_id': '5dc3c50e93bc0f8324b16c2323f87e54', 'line': 43.5, 'participant': 8383, 'participant_name': 'Zay Flowers'}, {'timestamp': '2024-01-28T18:50:22.434242', 'game_id': '5dc3c50e93bc0f8324b16c2323f87e54', 'line': 50.5, 'participant': 8387, 'participant_name': 'Justice Hill'}, {'timestamp': '2024-01-28T02:15:17.692646', 'game_id': '5dc3c50e93bc0f8324b16c2323f87e54', 'line': 52.5, 'participant': 8659, 'participant_name': 'Rashee Rice'}, {'timestamp': '2024-01-28T02:15:17.692728', 'game_id': '5dc3c50e93bc0f8324b16c2323f87e54', 'line': 14.5, 'participant': 9147, 'participant_name': 'Marquez Valdes-Scantling'}, {'timestamp': '2024-01-28T19:40:24.994635', 'game_id': '5dc3c50e93bc0f8324b16c2323f87e54', 'line': 82.5, 'participant': 9600, 'participant_name': 'Amon-Ra St. Brown'}, {'timestamp': '2024-01-28T19:20:21.722702', 'game_id': '5dc3c50e93bc0f8324b16c2323f87e54', 'line': 86.5, 'participant': 9601, 'participant_name': 'Isiah Pacheco'}, {'timestamp': '2024-01-27T20:55:22.375296', 'game_id': '5dc3c50e93bc0f8324b16c2323f87e54', 'line': 16.5, 'participant': 9950, 'participant_name': 'Clyde Edwards-Helaire'}, {'timestamp': '2024-01-28T19:40:24.994671', 'game_id': '5dc3c50e93bc0f8324b16c2323f87e54', 'line': 35.5, 'participant': 10490, 'participant_name': 'Josh Reynolds'}, {'timestamp': '2024-01-28T18:45:21.752896', 'game_id': '5dc3c50e93bc0f8324b16c2323f87e54', 'line': 50.5, 'participant': 10504, 'participant_name': 'Gus Edwards'}, {'timestamp': '2024-01-28T19:40:24.994706', 'game_id': '5dc3c50e93bc0f8324b16c2323f87e54', 'line': 80.5, 'participant': 10506, 'participant_name': 'Brandon Aiyuk'}, {'timestamp': '2024-01-28T02:15:17.692809', 'game_id': '5dc3c50e93bc0f8324b16c2323f87e54', 'line': 14.5, 'participant': 10646, 'participant_name': 'Justin Watson'}, {'timestamp': '2024-01-28T02:15:17.692885', 'game_id': '5dc3c50e93bc0f8324b16c2323f87e54', 'line': 23.5, 'participant': 10821, 'participant_name': 'Odell Beckham Jr.'}, {'timestamp': '2024-01-28T02:15:17.692965', 'game_id': '5dc3c50e93bc0f8324b16c2323f87e54', 'line': 22.5, 'participant': 10822, 'participant_name': 'Rashod Bateman'}, {'timestamp': '2024-01-28T02:15:17.693033', 'game_id': '5dc3c50e93bc0f8324b16c2323f87e54', 'line': 15.5, 'participant': 10828, 'participant_name': 'Nelson Agholor'}, {'timestamp': '2024-01-28T02:15:17.693117', 'game_id': '5dc3c50e93bc0f8324b16c2323f87e54', 'line': 11.5, 'participant': 11523, 'participant_name': 'Mecole Hardman Jr.'}]}}]}\n",
      "exception list index out of range player_rushing_and_receiving_yards_over_under\n",
      "{'game_id': 'ac621d714ed4d0d3a71737ed8078c3c3', 'fantasy_books': [{'bookie_key': 'draftkings', 'market': {'market_key': 'player_rushing_and_receiving_yards_over_under', 'lines': [{'timestamp': '2024-01-24T22:50:03.194884', 'game_id': 'ac621d714ed4d0d3a71737ed8078c3c3', 'line': 77.5, 'participant': 9113, 'participant_name': 'Jahmyr Gibbs'}, {'timestamp': '2024-01-25T21:50:03.317907', 'game_id': 'ac621d714ed4d0d3a71737ed8078c3c3', 'line': 137.5, 'participant': 9615, 'participant_name': 'Christian Mccaffrey'}, {'timestamp': '2024-01-24T22:50:03.194569', 'game_id': 'ac621d714ed4d0d3a71737ed8078c3c3', 'line': 57.5, 'participant': 10487, 'participant_name': 'David Montgomery'}]}}, {'bookie_key': 'prizepicks', 'market': {'market_key': 'player_rushing_and_receiving_yards_over_under', 'lines': [{'timestamp': '2024-01-23T16:55:11.120327', 'game_id': 'ac621d714ed4d0d3a71737ed8078c3c3', 'line': 75.5, 'participant': 9113, 'participant_name': 'Jahmyr Gibbs'}, {'timestamp': '2024-01-26T22:50:19.501502', 'game_id': 'ac621d714ed4d0d3a71737ed8078c3c3', 'line': 128.5, 'participant': 9615, 'participant_name': 'Christian Mccaffrey'}, {'timestamp': '2024-01-25T18:00:11.744573', 'game_id': 'ac621d714ed4d0d3a71737ed8078c3c3', 'line': 52.5, 'participant': 10487, 'participant_name': 'David Montgomery'}]}}, {'bookie_key': 'underdog', 'market': {'market_key': 'player_rushing_and_receiving_yards_over_under', 'lines': [{'timestamp': '2024-01-26T00:00:32.441317', 'game_id': 'ac621d714ed4d0d3a71737ed8078c3c3', 'line': 29.5, 'participant': 8196, 'participant_name': 'Jameson Williams'}, {'timestamp': '2024-01-28T19:10:21.625177', 'game_id': 'ac621d714ed4d0d3a71737ed8078c3c3', 'line': 77.5, 'participant': 9113, 'participant_name': 'Jahmyr Gibbs'}, {'timestamp': '2024-01-22T10:40:25.048269', 'game_id': 'ac621d714ed4d0d3a71737ed8078c3c3', 'line': 82.5, 'participant': 9600, 'participant_name': 'Amon-Ra St. Brown'}, {'timestamp': '2024-01-28T16:40:23.116375', 'game_id': 'ac621d714ed4d0d3a71737ed8078c3c3', 'line': 126.5, 'participant': 9615, 'participant_name': 'Christian Mccaffrey'}, {'timestamp': '2024-01-28T17:30:21.476891', 'game_id': 'ac621d714ed4d0d3a71737ed8078c3c3', 'line': 60.5, 'participant': 9616, 'participant_name': 'Deebo Samuel'}, {'timestamp': '2024-01-28T19:10:21.625385', 'game_id': 'ac621d714ed4d0d3a71737ed8078c3c3', 'line': 54.5, 'participant': 10487, 'participant_name': 'David Montgomery'}, {'timestamp': '2024-01-22T14:25:24.436047', 'game_id': 'ac621d714ed4d0d3a71737ed8078c3c3', 'line': 35.5, 'participant': 10490, 'participant_name': 'Josh Reynolds'}, {'timestamp': '2024-01-26T01:45:25.888489', 'game_id': 'ac621d714ed4d0d3a71737ed8078c3c3', 'line': 80.5, 'participant': 10506, 'participant_name': 'Brandon Aiyuk'}, {'timestamp': '2024-01-28T17:30:21.477047', 'game_id': 'ac621d714ed4d0d3a71737ed8078c3c3', 'line': 18.5, 'participant': 10627, 'participant_name': 'Jauan Jennings'}]}}]}\n",
      "exception list index out of range player_rushing_and_receiving_yards_over_under\n",
      "{'game_id': '5dc3c50e93bc0f8324b16c2323f87e54', 'fantasy_books': [{'bookie_key': 'draftkings', 'market': {'market_key': 'player_rushing_attempts_over_under', 'lines': [{'timestamp': '2024-01-24T22:50:03.193756', 'game_id': '5dc3c50e93bc0f8324b16c2323f87e54', 'line': 7.5, 'participant': 8387, 'participant_name': 'Justice Hill'}, {'timestamp': '2024-01-24T22:50:03.193473', 'game_id': '5dc3c50e93bc0f8324b16c2323f87e54', 'line': 4.5, 'participant': 8656, 'participant_name': 'Patrick Mahomes'}, {'timestamp': '2024-01-24T22:50:03.194263', 'game_id': '5dc3c50e93bc0f8324b16c2323f87e54', 'line': 14.5, 'participant': 9601, 'participant_name': 'Isiah Pacheco'}, {'timestamp': '2024-01-24T22:50:03.193891', 'game_id': '5dc3c50e93bc0f8324b16c2323f87e54', 'line': 10.5, 'participant': 9613, 'participant_name': 'Lamar Jackson'}, {'timestamp': '2024-01-24T22:50:03.193634', 'game_id': '5dc3c50e93bc0f8324b16c2323f87e54', 'line': 10.5, 'participant': 10504, 'participant_name': 'Gus Edwards'}]}}, {'bookie_key': 'prizepicks', 'market': {'market_key': 'player_rushing_attempts_over_under', 'lines': [{'timestamp': '2024-01-27T13:45:19.943087', 'game_id': '5dc3c50e93bc0f8324b16c2323f87e54', 'line': 7.5, 'participant': 8387, 'participant_name': 'Justice Hill'}, {'timestamp': '2024-01-27T16:55:18.605799', 'game_id': '5dc3c50e93bc0f8324b16c2323f87e54', 'line': 4.5, 'participant': 8656, 'participant_name': 'Patrick Mahomes'}, {'timestamp': '2024-01-23T16:55:11.120936', 'game_id': '5dc3c50e93bc0f8324b16c2323f87e54', 'line': 14.5, 'participant': 9601, 'participant_name': 'Isiah Pacheco'}, {'timestamp': '2024-01-25T18:00:11.745277', 'game_id': '5dc3c50e93bc0f8324b16c2323f87e54', 'line': 10.5, 'participant': 9613, 'participant_name': 'Lamar Jackson'}, {'timestamp': '2024-01-25T21:40:19.619373', 'game_id': '5dc3c50e93bc0f8324b16c2323f87e54', 'line': 10.5, 'participant': 10504, 'participant_name': 'Gus Edwards'}]}}, {'bookie_key': 'underdog', 'market': {'market_key': 'player_rushing_attempts_over_under', 'lines': [{'timestamp': '2024-01-24T21:25:06.706215', 'game_id': '5dc3c50e93bc0f8324b16c2323f87e54', 'line': 7.5, 'participant': 8387, 'participant_name': 'Justice Hill'}, {'timestamp': '2024-01-28T16:10:21.990136', 'game_id': '5dc3c50e93bc0f8324b16c2323f87e54', 'line': 5.0, 'participant': 8656, 'participant_name': 'Patrick Mahomes'}, {'timestamp': '2024-01-24T21:55:08.333790', 'game_id': '5dc3c50e93bc0f8324b16c2323f87e54', 'line': 14.5, 'participant': 9601, 'participant_name': 'Isiah Pacheco'}, {'timestamp': '2024-01-27T21:05:28.083845', 'game_id': '5dc3c50e93bc0f8324b16c2323f87e54', 'line': 10.5, 'participant': 9613, 'participant_name': 'Lamar Jackson'}, {'timestamp': '2024-01-26T14:50:22.049302', 'game_id': '5dc3c50e93bc0f8324b16c2323f87e54', 'line': 10.5, 'participant': 10504, 'participant_name': 'Gus Edwards'}, {'timestamp': '2024-01-28T17:30:21.477649', 'game_id': '5dc3c50e93bc0f8324b16c2323f87e54', 'line': 2.5, 'participant': 10625, 'participant_name': 'Brock Purdy'}]}}]}\n",
      "exception list index out of range player_rushing_attempts_over_under\n",
      "{'game_id': 'ac621d714ed4d0d3a71737ed8078c3c3', 'fantasy_books': [{'bookie_key': 'draftkings', 'market': {'market_key': 'player_rushing_attempts_over_under', 'lines': [{'timestamp': '2024-01-24T22:50:03.194840', 'game_id': 'ac621d714ed4d0d3a71737ed8078c3c3', 'line': 9.5, 'participant': 9113, 'participant_name': 'Jahmyr Gibbs'}, {'timestamp': '2024-01-25T21:50:03.317751', 'game_id': 'ac621d714ed4d0d3a71737ed8078c3c3', 'line': 20.5, 'participant': 9615, 'participant_name': 'Christian Mccaffrey'}, {'timestamp': '2024-01-24T22:50:03.194547', 'game_id': 'ac621d714ed4d0d3a71737ed8078c3c3', 'line': 10.5, 'participant': 10487, 'participant_name': 'David Montgomery'}, {'timestamp': '2024-01-25T21:50:03.318167', 'game_id': 'ac621d714ed4d0d3a71737ed8078c3c3', 'line': 2.5, 'participant': 10625, 'participant_name': 'Brock Purdy'}]}}, {'bookie_key': 'prizepicks', 'market': {'market_key': 'player_rushing_attempts_over_under', 'lines': [{'timestamp': '2024-01-27T13:40:21.272631', 'game_id': 'ac621d714ed4d0d3a71737ed8078c3c3', 'line': 7.0, 'participant': 8387, 'participant_name': 'Justice Hill'}, {'timestamp': '2024-01-28T19:40:18.230602', 'game_id': 'ac621d714ed4d0d3a71737ed8078c3c3', 'line': 4.5, 'participant': 8656, 'participant_name': 'Patrick Mahomes'}, {'timestamp': '2024-01-23T16:55:11.120274', 'game_id': 'ac621d714ed4d0d3a71737ed8078c3c3', 'line': 9.5, 'participant': 9113, 'participant_name': 'Jahmyr Gibbs'}, {'timestamp': '2024-01-26T22:50:19.501535', 'game_id': 'ac621d714ed4d0d3a71737ed8078c3c3', 'line': 19.0, 'participant': 9615, 'participant_name': 'Christian Mccaffrey'}, {'timestamp': '2024-01-26T02:10:16.398165', 'game_id': 'ac621d714ed4d0d3a71737ed8078c3c3', 'line': 10.5, 'participant': 10487, 'participant_name': 'David Montgomery'}, {'timestamp': '2024-01-27T16:55:18.605701', 'game_id': 'ac621d714ed4d0d3a71737ed8078c3c3', 'line': 2.5, 'participant': 10625, 'participant_name': 'Brock Purdy'}]}}, {'bookie_key': 'underdog', 'market': {'market_key': 'player_rushing_attempts_over_under', 'lines': [{'timestamp': '2024-01-23T02:15:06.298345', 'game_id': 'ac621d714ed4d0d3a71737ed8078c3c3', 'line': 9.5, 'participant': 9113, 'participant_name': 'Jahmyr Gibbs'}, {'timestamp': '2024-01-26T22:50:26.045925', 'game_id': 'ac621d714ed4d0d3a71737ed8078c3c3', 'line': 19.0, 'participant': 9615, 'participant_name': 'Christian Mccaffrey'}, {'timestamp': '2024-01-22T23:50:07.647860', 'game_id': 'ac621d714ed4d0d3a71737ed8078c3c3', 'line': 10.5, 'participant': 10487, 'participant_name': 'David Montgomery'}, {'timestamp': '2024-01-27T15:20:27.893724', 'game_id': 'ac621d714ed4d0d3a71737ed8078c3c3', 'line': 2.5, 'participant': 10625, 'participant_name': 'Brock Purdy'}]}}]}\n",
      "exception list index out of range player_rushing_attempts_over_under\n",
      "{'game_id': '5dc3c50e93bc0f8324b16c2323f87e54', 'fantasy_books': [{'bookie_key': 'draftkings', 'market': {'market_key': 'player_rushing_yds_over_under', 'lines': [{'timestamp': '2024-01-24T22:50:03.193733', 'game_id': '5dc3c50e93bc0f8324b16c2323f87e54', 'line': 37.5, 'participant': 8387, 'participant_name': 'Justice Hill'}, {'timestamp': '2024-01-24T22:50:03.193406', 'game_id': '5dc3c50e93bc0f8324b16c2323f87e54', 'line': 32.5, 'participant': 8656, 'participant_name': 'Patrick Mahomes'}, {'timestamp': '2024-01-24T22:50:03.194211', 'game_id': '5dc3c50e93bc0f8324b16c2323f87e54', 'line': 71.5, 'participant': 9601, 'participant_name': 'Isiah Pacheco'}, {'timestamp': '2024-01-24T22:50:03.193846', 'game_id': '5dc3c50e93bc0f8324b16c2323f87e54', 'line': 72.5, 'participant': 9613, 'participant_name': 'Lamar Jackson'}, {'timestamp': '2024-01-27T18:05:03.223742', 'game_id': '5dc3c50e93bc0f8324b16c2323f87e54', 'line': 9.5, 'participant': 9950, 'participant_name': 'Clyde Edwards-Helaire'}, {'timestamp': '2024-01-24T22:50:03.193611', 'game_id': '5dc3c50e93bc0f8324b16c2323f87e54', 'line': 44.5, 'participant': 10504, 'participant_name': 'Gus Edwards'}]}}, {'bookie_key': 'prizepicks', 'market': {'market_key': 'player_rushing_yds_over_under', 'lines': [{'timestamp': '2024-01-25T20:33:34.018998', 'game_id': '5dc3c50e93bc0f8324b16c2323f87e54', 'line': 34.5, 'participant': 8387, 'participant_name': 'Justice Hill'}, {'timestamp': '2024-01-25T21:25:19.606231', 'game_id': '5dc3c50e93bc0f8324b16c2323f87e54', 'line': 27.5, 'participant': 8656, 'participant_name': 'Patrick Mahomes'}, {'timestamp': '2024-01-22T19:15:18.812561', 'game_id': '5dc3c50e93bc0f8324b16c2323f87e54', 'line': 0.5, 'participant': 9599, 'participant_name': 'Jared Goff'}, {'timestamp': '2024-01-28T00:10:16.399071', 'game_id': '5dc3c50e93bc0f8324b16c2323f87e54', 'line': 63.5, 'participant': 9601, 'participant_name': 'Isiah Pacheco'}, {'timestamp': '2024-01-28T17:30:16.551765', 'game_id': '5dc3c50e93bc0f8324b16c2323f87e54', 'line': 66.5, 'participant': 9613, 'participant_name': 'Lamar Jackson'}, {'timestamp': '2024-01-27T18:25:16.943684', 'game_id': '5dc3c50e93bc0f8324b16c2323f87e54', 'line': 7.5, 'participant': 9950, 'participant_name': 'Clyde Edwards-Helaire'}, {'timestamp': '2024-01-26T01:25:20.156368', 'game_id': '5dc3c50e93bc0f8324b16c2323f87e54', 'line': 44.5, 'participant': 10504, 'participant_name': 'Gus Edwards'}]}}, {'bookie_key': 'underdog', 'market': {'market_key': 'player_rushing_yds_over_under', 'lines': [{'timestamp': '2024-01-28T18:45:21.752968', 'game_id': '5dc3c50e93bc0f8324b16c2323f87e54', 'line': 32.5, 'participant': 8387, 'participant_name': 'Justice Hill'}, {'timestamp': '2024-01-28T18:40:26.993891', 'game_id': '5dc3c50e93bc0f8324b16c2323f87e54', 'line': 27.5, 'participant': 8656, 'participant_name': 'Patrick Mahomes'}, {'timestamp': '2024-01-28T19:10:21.624540', 'game_id': '5dc3c50e93bc0f8324b16c2323f87e54', 'line': 64.5, 'participant': 9601, 'participant_name': 'Isiah Pacheco'}, {'timestamp': '2024-01-28T19:20:21.722541', 'game_id': '5dc3c50e93bc0f8324b16c2323f87e54', 'line': 65.5, 'participant': 9613, 'participant_name': 'Lamar Jackson'}, {'timestamp': '2024-01-26T19:55:22.095862', 'game_id': '5dc3c50e93bc0f8324b16c2323f87e54', 'line': 7.5, 'participant': 9950, 'participant_name': 'Clyde Edwards-Helaire'}, {'timestamp': '2024-01-28T19:20:21.722650', 'game_id': '5dc3c50e93bc0f8324b16c2323f87e54', 'line': 43.5, 'participant': 10504, 'participant_name': 'Gus Edwards'}]}}]}\n",
      "exception list index out of range player_rushing_yds_over_under\n",
      "{'game_id': 'ac621d714ed4d0d3a71737ed8078c3c3', 'fantasy_books': [{'bookie_key': 'draftkings', 'market': {'market_key': 'player_rushing_yds_over_under', 'lines': [{'timestamp': '2024-01-24T22:50:03.194818', 'game_id': 'ac621d714ed4d0d3a71737ed8078c3c3', 'line': 53.5, 'participant': 9113, 'participant_name': 'Jahmyr Gibbs'}, {'timestamp': '2024-01-24T22:50:03.194613', 'game_id': 'ac621d714ed4d0d3a71737ed8078c3c3', 'line': 0.5, 'participant': 9599, 'participant_name': 'Jared Goff'}, {'timestamp': '2024-01-25T21:50:03.317718', 'game_id': 'ac621d714ed4d0d3a71737ed8078c3c3', 'line': 95.5, 'participant': 9615, 'participant_name': 'Christian Mccaffrey'}, {'timestamp': '2024-01-24T22:50:03.194524', 'game_id': 'ac621d714ed4d0d3a71737ed8078c3c3', 'line': 49.5, 'participant': 10487, 'participant_name': 'David Montgomery'}, {'timestamp': '2024-01-25T21:50:03.318091', 'game_id': 'ac621d714ed4d0d3a71737ed8078c3c3', 'line': 10.5, 'participant': 10625, 'participant_name': 'Brock Purdy'}]}}, {'bookie_key': 'prizepicks', 'market': {'market_key': 'player_rushing_yds_over_under', 'lines': [{'timestamp': '2024-01-25T21:25:19.606188', 'game_id': 'ac621d714ed4d0d3a71737ed8078c3c3', 'line': 48.5, 'participant': 9113, 'participant_name': 'Jahmyr Gibbs'}, {'timestamp': '2024-01-23T16:55:11.120180', 'game_id': 'ac621d714ed4d0d3a71737ed8078c3c3', 'line': 1.5, 'participant': 9599, 'participant_name': 'Jared Goff'}, {'timestamp': '2024-01-26T22:50:19.501469', 'game_id': 'ac621d714ed4d0d3a71737ed8078c3c3', 'line': 86.5, 'participant': 9615, 'participant_name': 'Christian Mccaffrey'}, {'timestamp': '2024-01-28T00:10:16.398699', 'game_id': 'ac621d714ed4d0d3a71737ed8078c3c3', 'line': 43.5, 'participant': 10487, 'participant_name': 'David Montgomery'}, {'timestamp': '2024-01-26T22:45:20.894310', 'game_id': 'ac621d714ed4d0d3a71737ed8078c3c3', 'line': 7.5, 'participant': 10625, 'participant_name': 'Brock Purdy'}]}}, {'bookie_key': 'underdog', 'market': {'market_key': 'player_rushing_yds_over_under', 'lines': [{'timestamp': '2024-01-28T19:10:21.625069', 'game_id': 'ac621d714ed4d0d3a71737ed8078c3c3', 'line': 49.5, 'participant': 9113, 'participant_name': 'Jahmyr Gibbs'}, {'timestamp': '2024-01-27T18:50:28.271863', 'game_id': 'ac621d714ed4d0d3a71737ed8078c3c3', 'line': 1.5, 'participant': 9599, 'participant_name': 'Jared Goff'}, {'timestamp': '2024-01-28T17:35:20.740786', 'game_id': 'ac621d714ed4d0d3a71737ed8078c3c3', 'line': 84.5, 'participant': 9615, 'participant_name': 'Christian Mccaffrey'}, {'timestamp': '2024-01-28T16:35:21.160470', 'game_id': 'ac621d714ed4d0d3a71737ed8078c3c3', 'line': 8.5, 'participant': 9616, 'participant_name': 'Deebo Samuel'}, {'timestamp': '2024-01-28T19:10:21.625315', 'game_id': 'ac621d714ed4d0d3a71737ed8078c3c3', 'line': 44.5, 'participant': 10487, 'participant_name': 'David Montgomery'}, {'timestamp': '2024-01-27T17:50:25.795414', 'game_id': 'ac621d714ed4d0d3a71737ed8078c3c3', 'line': 7.5, 'participant': 10625, 'participant_name': 'Brock Purdy'}]}}]}\n",
      "exception list index out of range player_rushing_yds_over_under\n",
      "{'game_id': '5dc3c50e93bc0f8324b16c2323f87e54', 'fantasy_books': [{'bookie_key': 'prizepicks', 'market': {'market_key': 'player_sacks_over_under', 'lines': [{'timestamp': '2024-01-22T19:15:18.812528', 'game_id': '5dc3c50e93bc0f8324b16c2323f87e54', 'line': 0.25, 'participant': 11389, 'participant_name': 'Aidan Hutchinson'}, {'timestamp': '2024-01-27T21:40:18.813769', 'game_id': '5dc3c50e93bc0f8324b16c2323f87e54', 'line': 0.25, 'participant': 13140, 'participant_name': 'Chris Jones'}]}}]}\n",
      "exception list index out of range player_sacks_over_under\n",
      "{'game_id': 'ac621d714ed4d0d3a71737ed8078c3c3', 'fantasy_books': [{'bookie_key': 'prizepicks', 'market': {'market_key': 'player_sacks_over_under', 'lines': [{'timestamp': '2024-01-24T17:10:12.098211', 'game_id': 'ac621d714ed4d0d3a71737ed8078c3c3', 'line': 0.75, 'participant': 11389, 'participant_name': 'Aidan Hutchinson'}, {'timestamp': '2024-01-27T16:45:17.475282', 'game_id': 'ac621d714ed4d0d3a71737ed8078c3c3', 'line': 0.75, 'participant': 11966, 'participant_name': 'Nick Bosa'}]}}, {'bookie_key': 'underdog', 'market': {'market_key': 'player_sacks_over_under', 'lines': [{'timestamp': '2024-01-22T19:10:29.133051', 'game_id': 'ac621d714ed4d0d3a71737ed8078c3c3', 'line': 0.5, 'participant': 11389, 'participant_name': 'Aidan Hutchinson'}, {'timestamp': '2024-01-22T10:40:25.053800', 'game_id': 'ac621d714ed4d0d3a71737ed8078c3c3', 'line': 0.5, 'participant': 11966, 'participant_name': 'Nick Bosa'}]}}]}\n",
      "exception list index out of range player_sacks_over_under\n",
      "{'game_id': '5dc3c50e93bc0f8324b16c2323f87e54', 'fantasy_books': [{'bookie_key': 'prizepicks', 'market': {'market_key': 'player_tackles_and_assists_over_under', 'lines': [{'timestamp': '2024-01-28T18:15:18.014478', 'game_id': '5dc3c50e93bc0f8324b16c2323f87e54', 'line': 6.0, 'participant': 11519, 'participant_name': 'Justin Reid'}, {'timestamp': '2024-01-23T16:55:11.121404', 'game_id': '5dc3c50e93bc0f8324b16c2323f87e54', 'line': 4.5, 'participant': 11520, 'participant_name': \"L'Jarius Sneed\"}, {'timestamp': '2024-01-27T21:40:18.813837', 'game_id': '5dc3c50e93bc0f8324b16c2323f87e54', 'line': 9.5, 'participant': 11521, 'participant_name': 'Nick Bolton'}, {'timestamp': '2024-01-24T18:40:11.874312', 'game_id': '5dc3c50e93bc0f8324b16c2323f87e54', 'line': 9.0, 'participant': 11692, 'participant_name': 'Roquan Smith'}, {'timestamp': '2024-01-28T19:30:16.136925', 'game_id': '5dc3c50e93bc0f8324b16c2323f87e54', 'line': 5.5, 'participant': 11696, 'participant_name': 'Kyle Hamilton'}, {'timestamp': '2024-01-23T16:55:11.121233', 'game_id': '5dc3c50e93bc0f8324b16c2323f87e54', 'line': 2.5, 'participant': 12478, 'participant_name': 'Jadeveon Clowney'}, {'timestamp': '2024-01-23T16:55:11.121312', 'game_id': '5dc3c50e93bc0f8324b16c2323f87e54', 'line': 2.5, 'participant': 12479, 'participant_name': 'Justin Madubuike'}, {'timestamp': '2024-01-23T16:55:11.121211', 'game_id': '5dc3c50e93bc0f8324b16c2323f87e54', 'line': 4.5, 'participant': 13195, 'participant_name': 'Trent Mcduffie'}]}}, {'bookie_key': 'underdog', 'market': {'market_key': 'player_tackles_and_assists_over_under', 'lines': [{'timestamp': '2024-01-28T19:40:24.994331', 'game_id': '5dc3c50e93bc0f8324b16c2323f87e54', 'line': 4.0, 'participant': 10857, 'participant_name': 'Cameron Sutton'}, {'timestamp': '2024-01-28T17:30:21.477425', 'game_id': '5dc3c50e93bc0f8324b16c2323f87e54', 'line': 4.0, 'participant': 11389, 'participant_name': 'Aidan Hutchinson'}, {'timestamp': '2024-01-28T18:10:23.032766', 'game_id': '5dc3c50e93bc0f8324b16c2323f87e54', 'line': 6.0, 'participant': 11519, 'participant_name': 'Justin Reid'}, {'timestamp': '2024-01-22T20:05:28.181959', 'game_id': '5dc3c50e93bc0f8324b16c2323f87e54', 'line': 4.5, 'participant': 11520, 'participant_name': \"L'Jarius Sneed\"}, {'timestamp': '2024-01-28T18:45:21.753254', 'game_id': '5dc3c50e93bc0f8324b16c2323f87e54', 'line': 9.0, 'participant': 11521, 'participant_name': 'Nick Bolton'}, {'timestamp': '2024-01-28T17:40:26.434301', 'game_id': '5dc3c50e93bc0f8324b16c2323f87e54', 'line': 9.0, 'participant': 11692, 'participant_name': 'Roquan Smith'}, {'timestamp': '2024-01-27T21:25:28.276045', 'game_id': '5dc3c50e93bc0f8324b16c2323f87e54', 'line': 7.0, 'participant': 11693, 'participant_name': 'Patrick Queen'}, {'timestamp': '2024-01-27T15:15:27.344406', 'game_id': '5dc3c50e93bc0f8324b16c2323f87e54', 'line': 5.0, 'participant': 11694, 'participant_name': 'Marcus Williams'}, {'timestamp': '2024-01-22T18:40:31.303324', 'game_id': '5dc3c50e93bc0f8324b16c2323f87e54', 'line': 5.5, 'participant': 11696, 'participant_name': 'Kyle Hamilton'}, {'timestamp': '2024-01-28T19:40:24.994388', 'game_id': '5dc3c50e93bc0f8324b16c2323f87e54', 'line': 3.0, 'participant': 11966, 'participant_name': 'Nick Bosa'}, {'timestamp': '2024-01-28T19:10:21.625770', 'game_id': '5dc3c50e93bc0f8324b16c2323f87e54', 'line': 8.0, 'participant': 11968, 'participant_name': 'Fred Warner'}, {'timestamp': '2024-01-28T19:40:24.994448', 'game_id': '5dc3c50e93bc0f8324b16c2323f87e54', 'line': 4.5, 'participant': 12010, 'participant_name': 'Charvarius Ward'}, {'timestamp': '2024-01-28T19:40:24.994489', 'game_id': '5dc3c50e93bc0f8324b16c2323f87e54', 'line': 4.5, 'participant': 12032, 'participant_name': 'Deommodore Lenoir'}, {'timestamp': '2024-01-28T18:40:26.994450', 'game_id': '5dc3c50e93bc0f8324b16c2323f87e54', 'line': 2.5, 'participant': 12478, 'participant_name': 'Jadeveon Clowney'}, {'timestamp': '2024-01-28T18:25:24.945820', 'game_id': '5dc3c50e93bc0f8324b16c2323f87e54', 'line': 2.5, 'participant': 12479, 'participant_name': 'Justin Madubuike'}, {'timestamp': '2024-01-28T18:55:23.135251', 'game_id': '5dc3c50e93bc0f8324b16c2323f87e54', 'line': 4.0, 'participant': 12891, 'participant_name': 'Brandon Stephens'}, {'timestamp': '2024-01-22T20:05:28.181738', 'game_id': '5dc3c50e93bc0f8324b16c2323f87e54', 'line': 4.5, 'participant': 13195, 'participant_name': 'Trent Mcduffie'}, {'timestamp': '2024-01-28T18:50:22.434502', 'game_id': '5dc3c50e93bc0f8324b16c2323f87e54', 'line': 7.0, 'participant': 13702, 'participant_name': 'Drue Tranquill'}]}}]}\n",
      "exception list index out of range player_tackles_and_assists_over_under\n",
      "{'game_id': 'ac621d714ed4d0d3a71737ed8078c3c3', 'fantasy_books': [{'bookie_key': 'prizepicks', 'market': {'market_key': 'player_tackles_and_assists_over_under', 'lines': [{'timestamp': '2024-01-25T18:00:11.745036', 'game_id': 'ac621d714ed4d0d3a71737ed8078c3c3', 'line': 7.5, 'participant': 10856, 'participant_name': 'Alex Anzalone'}, {'timestamp': '2024-01-26T22:55:16.805310', 'game_id': 'ac621d714ed4d0d3a71737ed8078c3c3', 'line': 2.5, 'participant': 11964, 'participant_name': 'Arik Armstead'}, {'timestamp': '2024-01-26T22:55:16.805506', 'game_id': 'ac621d714ed4d0d3a71737ed8078c3c3', 'line': 8.0, 'participant': 11968, 'participant_name': 'Fred Warner'}, {'timestamp': '2024-01-28T19:30:16.136888', 'game_id': 'ac621d714ed4d0d3a71737ed8078c3c3', 'line': 8.5, 'participant': 11969, 'participant_name': 'Dre Greenlaw'}, {'timestamp': '2024-01-28T19:40:18.230443', 'game_id': 'ac621d714ed4d0d3a71737ed8078c3c3', 'line': 2.5, 'participant': 12479, 'participant_name': 'Justin Madubuike'}, {'timestamp': '2024-01-28T03:05:16.946575', 'game_id': 'ac621d714ed4d0d3a71737ed8078c3c3', 'line': 4.5, 'participant': 13230, 'participant_name': 'Ambry Thomas'}, {'timestamp': '2024-01-24T17:10:12.098955', 'game_id': 'ac621d714ed4d0d3a71737ed8078c3c3', 'line': 3.5, 'participant': 19647, 'participant_name': 'Kindle Vildor'}]}}, {'bookie_key': 'underdog', 'market': {'market_key': 'player_tackles_and_assists_over_under', 'lines': [{'timestamp': '2024-01-28T17:35:20.741189', 'game_id': 'ac621d714ed4d0d3a71737ed8078c3c3', 'line': 7.0, 'participant': 10856, 'participant_name': 'Alex Anzalone'}, {'timestamp': '2024-01-27T17:45:29.888630', 'game_id': 'ac621d714ed4d0d3a71737ed8078c3c3', 'line': 4.0, 'participant': 10857, 'participant_name': 'Cameron Sutton'}, {'timestamp': '2024-01-23T17:05:07.943631', 'game_id': 'ac621d714ed4d0d3a71737ed8078c3c3', 'line': 3.5, 'participant': 10859, 'participant_name': 'Kerby Joseph'}, {'timestamp': '2024-01-28T17:35:20.741241', 'game_id': 'ac621d714ed4d0d3a71737ed8078c3c3', 'line': 3.5, 'participant': 11389, 'participant_name': 'Aidan Hutchinson'}, {'timestamp': '2024-01-22T19:20:26.220277', 'game_id': 'ac621d714ed4d0d3a71737ed8078c3c3', 'line': 2.5, 'participant': 11964, 'participant_name': 'Arik Armstead'}, {'timestamp': '2024-01-22T19:20:26.216203', 'game_id': 'ac621d714ed4d0d3a71737ed8078c3c3', 'line': 3.0, 'participant': 11966, 'participant_name': 'Nick Bosa'}, {'timestamp': '2024-01-22T19:25:21.773897', 'game_id': 'ac621d714ed4d0d3a71737ed8078c3c3', 'line': 8.0, 'participant': 11968, 'participant_name': 'Fred Warner'}, {'timestamp': '2024-01-28T19:10:21.625454', 'game_id': 'ac621d714ed4d0d3a71737ed8078c3c3', 'line': 8.5, 'participant': 11969, 'participant_name': 'Dre Greenlaw'}, {'timestamp': '2024-01-27T18:50:28.272339', 'game_id': 'ac621d714ed4d0d3a71737ed8078c3c3', 'line': 4.5, 'participant': 12010, 'participant_name': 'Charvarius Ward'}, {'timestamp': '2024-01-24T03:10:07.900266', 'game_id': 'ac621d714ed4d0d3a71737ed8078c3c3', 'line': 4.5, 'participant': 12032, 'participant_name': 'Deommodore Lenoir'}, {'timestamp': '2024-01-23T17:25:08.353347', 'game_id': 'ac621d714ed4d0d3a71737ed8078c3c3', 'line': 5.0, 'participant': 13188, 'participant_name': 'Brian Branch'}, {'timestamp': '2024-01-27T18:40:28.891457', 'game_id': 'ac621d714ed4d0d3a71737ed8078c3c3', 'line': 4.5, 'participant': 13230, 'participant_name': 'Ambry Thomas'}, {'timestamp': '2024-01-23T17:05:07.943003', 'game_id': 'ac621d714ed4d0d3a71737ed8078c3c3', 'line': 4.5, 'participant': 14315, 'participant_name': 'Ifeatu Melifonwu'}, {'timestamp': '2024-01-27T19:55:23.392396', 'game_id': 'ac621d714ed4d0d3a71737ed8078c3c3', 'line': 5.5, 'participant': 16265, 'participant_name': 'Derrick Barnes'}, {'timestamp': '2024-01-23T17:05:07.942885', 'game_id': 'ac621d714ed4d0d3a71737ed8078c3c3', 'line': 3.5, 'participant': 19647, 'participant_name': 'Kindle Vildor'}]}}]}\n",
      "exception list index out of range player_tackles_and_assists_over_under\n",
      "{'game_id': '5dc3c50e93bc0f8324b16c2323f87e54', 'fantasy_books': [{'bookie_key': 'underdog', 'market': {'market_key': 'player_tackles_over_under', 'lines': [{'timestamp': '2024-01-28T19:40:24.994745', 'game_id': '5dc3c50e93bc0f8324b16c2323f87e54', 'line': 3.0, 'participant': 10857, 'participant_name': 'Cameron Sutton'}, {'timestamp': '2024-01-28T18:45:21.753217', 'game_id': '5dc3c50e93bc0f8324b16c2323f87e54', 'line': 4.0, 'participant': 11519, 'participant_name': 'Justin Reid'}, {'timestamp': '2024-01-28T02:15:17.693275', 'game_id': '5dc3c50e93bc0f8324b16c2323f87e54', 'line': 3.5, 'participant': 11520, 'participant_name': \"L'Jarius Sneed\"}, {'timestamp': '2024-01-22T20:05:28.181561', 'game_id': '5dc3c50e93bc0f8324b16c2323f87e54', 'line': 5.5, 'participant': 11521, 'participant_name': 'Nick Bolton'}, {'timestamp': '2024-01-22T18:40:31.303466', 'game_id': '5dc3c50e93bc0f8324b16c2323f87e54', 'line': 5.5, 'participant': 11692, 'participant_name': 'Roquan Smith'}, {'timestamp': '2024-01-22T18:40:31.303499', 'game_id': '5dc3c50e93bc0f8324b16c2323f87e54', 'line': 4.5, 'participant': 11693, 'participant_name': 'Patrick Queen'}, {'timestamp': '2024-01-28T19:25:20.884961', 'game_id': '5dc3c50e93bc0f8324b16c2323f87e54', 'line': 3.5, 'participant': 11694, 'participant_name': 'Marcus Williams'}, {'timestamp': '2024-01-28T18:45:21.753397', 'game_id': '5dc3c50e93bc0f8324b16c2323f87e54', 'line': 4.0, 'participant': 11696, 'participant_name': 'Kyle Hamilton'}, {'timestamp': '2024-01-28T19:10:21.626177', 'game_id': '5dc3c50e93bc0f8324b16c2323f87e54', 'line': 5.0, 'participant': 11968, 'participant_name': 'Fred Warner'}, {'timestamp': '2024-01-28T19:10:21.624859', 'game_id': '5dc3c50e93bc0f8324b16c2323f87e54', 'line': 1.5, 'participant': 12478, 'participant_name': 'Jadeveon Clowney'}, {'timestamp': '2024-01-22T18:40:31.303628', 'game_id': '5dc3c50e93bc0f8324b16c2323f87e54', 'line': 1.5, 'participant': 12479, 'participant_name': 'Justin Madubuike'}, {'timestamp': '2024-01-28T18:20:27.681384', 'game_id': '5dc3c50e93bc0f8324b16c2323f87e54', 'line': 3.0, 'participant': 12891, 'participant_name': 'Brandon Stephens'}, {'timestamp': '2024-01-28T19:20:21.722981', 'game_id': '5dc3c50e93bc0f8324b16c2323f87e54', 'line': 3.0, 'participant': 13195, 'participant_name': 'Trent Mcduffie'}, {'timestamp': '2024-01-28T16:20:22.979935', 'game_id': '5dc3c50e93bc0f8324b16c2323f87e54', 'line': 3.5, 'participant': 13230, 'participant_name': 'Ambry Thomas'}, {'timestamp': '2024-01-28T18:50:22.434466', 'game_id': '5dc3c50e93bc0f8324b16c2323f87e54', 'line': 4.5, 'participant': 13702, 'participant_name': 'Drue Tranquill'}, {'timestamp': '2024-01-28T19:40:24.994811', 'game_id': '5dc3c50e93bc0f8324b16c2323f87e54', 'line': 3.5, 'participant': 14315, 'participant_name': 'Ifeatu Melifonwu'}, {'timestamp': '2024-01-28T18:20:27.681424', 'game_id': '5dc3c50e93bc0f8324b16c2323f87e54', 'line': 2.5, 'participant': 15352, 'participant_name': 'Marlon Humphrey'}]}}]}\n",
      "exception list index out of range player_tackles_over_under\n",
      "{'game_id': 'ac621d714ed4d0d3a71737ed8078c3c3', 'fantasy_books': [{'bookie_key': 'underdog', 'market': {'market_key': 'player_tackles_over_under', 'lines': [{'timestamp': '2024-01-26T21:25:22.733899', 'game_id': 'ac621d714ed4d0d3a71737ed8078c3c3', 'line': 4.5, 'participant': 10856, 'participant_name': 'Alex Anzalone'}, {'timestamp': '2024-01-27T17:45:29.888597', 'game_id': 'ac621d714ed4d0d3a71737ed8078c3c3', 'line': 3.0, 'participant': 10857, 'participant_name': 'Cameron Sutton'}, {'timestamp': '2024-01-22T16:40:25.082090', 'game_id': 'ac621d714ed4d0d3a71737ed8078c3c3', 'line': 2.5, 'participant': 10859, 'participant_name': 'Kerby Joseph'}, {'timestamp': '2024-01-23T17:05:07.942816', 'game_id': 'ac621d714ed4d0d3a71737ed8078c3c3', 'line': 2.5, 'participant': 11389, 'participant_name': 'Aidan Hutchinson'}, {'timestamp': '2024-01-24T03:10:07.900299', 'game_id': 'ac621d714ed4d0d3a71737ed8078c3c3', 'line': 1.5, 'participant': 11964, 'participant_name': 'Arik Armstead'}, {'timestamp': '2024-01-22T19:45:21.380567', 'game_id': 'ac621d714ed4d0d3a71737ed8078c3c3', 'line': 2.0, 'participant': 11966, 'participant_name': 'Nick Bosa'}, {'timestamp': '2024-01-22T19:25:21.773865', 'game_id': 'ac621d714ed4d0d3a71737ed8078c3c3', 'line': 5.0, 'participant': 11968, 'participant_name': 'Fred Warner'}, {'timestamp': '2024-01-28T19:10:21.625419', 'game_id': 'ac621d714ed4d0d3a71737ed8078c3c3', 'line': 5.5, 'participant': 11969, 'participant_name': 'Dre Greenlaw'}, {'timestamp': '2024-01-22T19:00:29.868061', 'game_id': 'ac621d714ed4d0d3a71737ed8078c3c3', 'line': 3.5, 'participant': 12010, 'participant_name': 'Charvarius Ward'}, {'timestamp': '2024-01-22T19:20:26.220206', 'game_id': 'ac621d714ed4d0d3a71737ed8078c3c3', 'line': 3.5, 'participant': 12032, 'participant_name': 'Deommodore Lenoir'}, {'timestamp': '2024-01-23T17:10:06.678502', 'game_id': 'ac621d714ed4d0d3a71737ed8078c3c3', 'line': 3.5, 'participant': 13188, 'participant_name': 'Brian Branch'}, {'timestamp': '2024-01-27T19:55:23.392343', 'game_id': 'ac621d714ed4d0d3a71737ed8078c3c3', 'line': 3.5, 'participant': 13230, 'participant_name': 'Ambry Thomas'}, {'timestamp': '2024-01-26T01:45:25.888553', 'game_id': 'ac621d714ed4d0d3a71737ed8078c3c3', 'line': 3.5, 'participant': 14315, 'participant_name': 'Ifeatu Melifonwu'}, {'timestamp': '2024-01-23T17:05:07.942850', 'game_id': 'ac621d714ed4d0d3a71737ed8078c3c3', 'line': 2.5, 'participant': 19647, 'participant_name': 'Kindle Vildor'}]}}]}\n",
      "exception list index out of range player_tackles_over_under\n",
      "Request failed with status: 422\n",
      "{}\n",
      "exception 'fantasy_books' player_td_over_under\n",
      "Request failed with status: 422\n",
      "{}\n",
      "exception 'fantasy_books' player_td_over_under\n"
     ]
    }
   ],
   "source": [
    "for market in MARKETS:\n",
    "    for game in game_ids:\n",
    "        try:\n",
    "            odds = get_fantasy_lines(game, market)\n",
    "            print(odds)\n",
    "            ud = pd.DataFrame.from_dict(odds['fantasy_books'][2]['market']['lines'])\n",
    "            ud = ud[['participant_name', 'line']]\n",
    "            ud.columns = [ud.columns[0], 'handicap']\n",
    "\n",
    "            ## now get all the sportsbooks lines\n",
    "            odds = get_most_recent_odds(game, market)\n",
    "\n",
    "\n",
    "            zero = pd.DataFrame.from_dict(odds['sportsbooks'][0]['market']['outcomes'])\n",
    "            one = pd.DataFrame.from_dict(odds['sportsbooks'][1]['market']['outcomes'])\n",
    "            two = pd.DataFrame.from_dict(odds['sportsbooks'][2]['market']['outcomes'])\n",
    "            three = pd.DataFrame.from_dict(odds['sportsbooks'][3]['market']['outcomes'])\n",
    "            five = pd.DataFrame.from_dict(odds['sportsbooks'][5]['market']['outcomes'])\n",
    "            six = pd.DataFrame.from_dict(odds['sportsbooks'][6]['market']['outcomes'])\n",
    "            seven = pd.DataFrame.from_dict(odds['sportsbooks'][7]['market']['outcomes'])\n",
    "            eight = pd.DataFrame.from_dict(odds['sportsbooks'][8]['market']['outcomes'])\n",
    "\n",
    "            ## process them\n",
    "            zero = process_zero(zero)\n",
    "            one = process_one(one)\n",
    "            two = process_two_six(two)\n",
    "            three = process_three_five(three)\n",
    "            five = process_three_five(five)\n",
    "            six = process_two_six(six)\n",
    "            seven = process_seven_eight(seven)\n",
    "            eight = process_seven_eight(eight)\n",
    "\n",
    "            ## concat all the books\n",
    "            datasets = [zero, one, two, three, five, six, seven, eight]\n",
    "            new_datasets = []\n",
    "\n",
    "            for dataset in datasets:\n",
    "                dataset = pd.merge(dataset, ud, how='inner', on = ['participant_name', 'handicap'])\n",
    "                new_datasets.append(pivot(dataset))\n",
    "\n",
    "            concat = pd.concat(new_datasets, axis=0)\n",
    "            final = concat.copy()\n",
    "\n",
    "            # final = final[final['ev'] >= 3]\n",
    "\n",
    "            final['market'] = market\n",
    "\n",
    "            if final.shape[0] > 0: bets = pd.concat([bets, final[['participant_name', 'ev', 'market', 'line']]])\n",
    "            \n",
    "        except Exception as e:\n",
    "            print(\"exception\", e, market)\n",
    "            continue"
   ]
  },
  {
   "cell_type": "code",
   "execution_count": 11,
   "metadata": {},
   "outputs": [
    {
     "data": {
      "text/plain": [
       "(0, 4)"
      ]
     },
     "execution_count": 11,
     "metadata": {},
     "output_type": "execute_result"
    }
   ],
   "source": [
    "bets.shape"
   ]
  },
  {
   "cell_type": "code",
   "execution_count": 78,
   "metadata": {},
   "outputs": [],
   "source": [
    "bets.to_csv(\"bets.csv\", index=None)"
   ]
  },
  {
   "cell_type": "code",
   "execution_count": null,
   "metadata": {},
   "outputs": [],
   "source": []
  },
  {
   "cell_type": "code",
   "execution_count": 98,
   "metadata": {},
   "outputs": [
    {
     "data": {
      "text/plain": [
       "{}"
      ]
     },
     "execution_count": 98,
     "metadata": {},
     "output_type": "execute_result"
    }
   ],
   "source": []
  }
 ],
 "metadata": {
  "kernelspec": {
   "display_name": "base",
   "language": "python",
   "name": "python3"
  },
  "language_info": {
   "codemirror_mode": {
    "name": "ipython",
    "version": 3
   },
   "file_extension": ".py",
   "mimetype": "text/x-python",
   "name": "python",
   "nbconvert_exporter": "python",
   "pygments_lexer": "ipython3",
   "version": "3.9.12"
  },
  "orig_nbformat": 4
 },
 "nbformat": 4,
 "nbformat_minor": 2
}
