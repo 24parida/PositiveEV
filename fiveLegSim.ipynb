{
 "cells": [
  {
   "cell_type": "code",
   "execution_count": 1,
   "metadata": {},
   "outputs": [
    {
     "data": {
      "text/plain": [
       "'\\n5-leg simulator\\nmoney:\\n$ per parlay\\n% ev:\\n'"
      ]
     },
     "execution_count": 1,
     "metadata": {},
     "output_type": "execute_result"
    }
   ],
   "source": [
    "import random\n",
    "import numpy as np\n",
    "\n",
    "'''\n",
    "5-leg simulator\n",
    "money:\n",
    "$ per parlay\n",
    "% ev:\n",
    "'''"
   ]
  },
  {
   "cell_type": "code",
   "execution_count": 2,
   "metadata": {},
   "outputs": [
    {
     "name": "stdout",
     "output_type": "stream",
     "text": [
      "The amount of bankroll is: 3000\n",
      "The number of bets placed is: 600\n",
      "The amount of money bet per parlay is: 5\n",
      "The expected value is: 5.5\n",
      "The number of simulations is: 1000\n"
     ]
    }
   ],
   "source": [
    "money = 1500 * 2\n",
    "parlay = 5\n",
    "ev = 5.5\n",
    "\n",
    "bets = int(money/parlay)\n",
    "\n",
    "simulations = 1000\n",
    "\n",
    "print(\"The amount of bankroll is: \" + str(money))\n",
    "print(\"The number of bets placed is: \" + str(bets))\n",
    "print(\"The amount of money bet per parlay is: \" + str(parlay))\n",
    "print(\"The expected value is: \" + str(ev))\n",
    "print(\"The number of simulations is: \" + str(simulations))\n"
   ]
  },
  {
   "cell_type": "code",
   "execution_count": 3,
   "metadata": {},
   "outputs": [],
   "source": [
    "profits = []\n",
    "\n",
    "for i in range(simulations):\n",
    "\n",
    "    profit = 0\n",
    "\n",
    "    for i in range(bets):\n",
    "        leg1 = random.randint(0,1000)\n",
    "        leg2 = random.randint(0,1000)\n",
    "        leg3 = random.randint(0,1000)\n",
    "        leg4 = random.randint(0,1000)\n",
    "        leg5 = random.randint(0,1000)\n",
    "\n",
    "        legs = [leg1, leg2, leg3, leg4, leg5]\n",
    "        kept_legs = [i for i in legs if i < ((50+ev) * 10)]\n",
    "\n",
    "        if len(kept_legs) < 3:\n",
    "            profit += -1 * parlay\n",
    "        elif len(kept_legs) == 3:\n",
    "            profit += (parlay * 0.4) - parlay\n",
    "        elif len(kept_legs) == 4:\n",
    "            profit += (parlay * 2) - parlay\n",
    "        elif len(kept_legs) == 5:\n",
    "            profit += (parlay * 10) - parlay\n",
    "    \n",
    "    profits.append(profit)\n",
    "        "
   ]
  },
  {
   "cell_type": "code",
   "execution_count": 4,
   "metadata": {},
   "outputs": [
    {
     "name": "stdout",
     "output_type": "stream",
     "text": [
      "234.188\n",
      "227.0\n"
     ]
    },
    {
     "data": {
      "image/png": "[encoded data removed]",
      "text/plain": [
       "<Figure size 432x288 with 1 Axes>"
      ]
     },
     "metadata": {
      "needs_background": "light"
     },
     "output_type": "display_data"
    },
    {
     "name": "stdout",
     "output_type": "stream",
     "text": [
      "[ 217.41122585951484 ,  250.96477414048513 ]\n"
     ]
    }
   ],
   "source": [
    "print(np.mean(profits))\n",
    "print(np.median(profits))\n",
    "\n",
    "# show distribution of profits\n",
    "import matplotlib.pyplot as plt\n",
    "plt.hist(profits, bins=100)\n",
    "plt.show()\n",
    "\n",
    "# get 95% confidence interval\n",
    "from scipy import stats\n",
    "confidence = 0.95\n",
    "data = profits\n",
    "n = len(data)\n",
    "m = np.mean(data)\n",
    "std_err = stats.sem(data)\n",
    "h = std_err * stats.t.ppf((1 + confidence) / 2, n - 1)\n",
    "print(\"[\", m-h, \", \", m+h, \"]\")\n",
    "\n",
    "\n"
   ]
  },
  {
   "cell_type": "code",
   "execution_count": null,
   "metadata": {},
   "outputs": [],
   "source": []
  }
 ],
 "metadata": {
  "kernelspec": {
   "display_name": "base",
   "language": "python",
   "name": "python3"
  },
  "language_info": {
   "codemirror_mode": {
    "name": "ipython",
    "version": 3
   },
   "file_extension": ".py",
   "mimetype": "text/x-python",
   "name": "python",
   "nbconvert_exporter": "python",
   "pygments_lexer": "ipython3",
   "version": "3.9.12"
  },
  "orig_nbformat": 4
 },
 "nbformat": 4,
 "nbformat_minor": 2
}
