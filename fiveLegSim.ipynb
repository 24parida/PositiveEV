{
 "cells": [
  {
   "cell_type": "code",
   "execution_count": 2,
   "metadata": {},
   "outputs": [
    {
     "data": {
      "text/plain": [
       "'\\n5-leg simulator\\nmoney:\\n$ per parlay\\n% ev:\\n'"
      ]
     },
     "execution_count": 2,
     "metadata": {},
     "output_type": "execute_result"
    }
   ],
   "source": [
    "import random\n",
    "import numpy as np\n",
    "\n",
    "'''\n",
    "5-leg simulator\n",
    "money:\n",
    "$ per parlay\n",
    "% ev:\n",
    "'''"
   ]
  },
  {
   "cell_type": "code",
   "execution_count": 9,
   "metadata": {},
   "outputs": [],
   "source": [
    "money = 1000\n",
    "parlay = 5\n",
    "ev = 6\n",
    "\n",
    "simulations= money/parlay"
   ]
  },
  {
   "cell_type": "code",
   "execution_count": 10,
   "metadata": {},
   "outputs": [],
   "source": [
    "profits = []\n",
    "\n",
    "for i in range(1000):\n",
    "\n",
    "    profit = 0\n",
    "\n",
    "    for i in range(int(simulations)):\n",
    "        leg1 = random.randint(0,1000)\n",
    "        leg2 = random.randint(0,1000)\n",
    "        leg3 = random.randint(0,1000)\n",
    "        leg4 = random.randint(0,1000)\n",
    "        leg5 = random.randint(0,1000)\n",
    "\n",
    "        legs = [leg1, leg2, leg3, leg4, leg5]\n",
    "        kept_legs = [i for i in legs if i < ((50+ev) * 10)]\n",
    "\n",
    "        if len(kept_legs) < 3:\n",
    "            profit += -1 * parlay\n",
    "        elif len(kept_legs) == 3:\n",
    "            profit += (parlay * 0.4) - parlay\n",
    "        elif len(kept_legs) == 4:\n",
    "            profit += (parlay * 2) - parlay\n",
    "        elif len(kept_legs) == 5:\n",
    "            profit += (parlay * 10) - parlay\n",
    "    \n",
    "    profits.append(profit)\n",
    "        "
   ]
  },
  {
   "cell_type": "code",
   "execution_count": 13,
   "metadata": {},
   "outputs": [
    {
     "name": "stdout",
     "output_type": "stream",
     "text": [
      "109.892\n",
      "112.0\n"
     ]
    },
    {
     "data": {
      "image/png": "[encoded data removed]",
      "text/plain": [
       "<Figure size 640x480 with 1 Axes>"
      ]
     },
     "metadata": {},
     "output_type": "display_data"
    }
   ],
   "source": [
    "print(np.mean(profits))\n",
    "print(np.median(profits))\n",
    "\n",
    "# show distribution of profits\n",
    "import matplotlib.pyplot as plt\n",
    "plt.hist(profits, bins=100)\n",
    "plt.show()\n"
   ]
  },
  {
   "cell_type": "code",
   "execution_count": null,
   "metadata": {},
   "outputs": [],
   "source": []
  }
 ],
 "metadata": {
  "kernelspec": {
   "display_name": "base",
   "language": "python",
   "name": "python3"
  },
  "language_info": {
   "codemirror_mode": {
    "name": "ipython",
    "version": 3
   },
   "file_extension": ".py",
   "mimetype": "text/x-python",
   "name": "python",
   "nbconvert_exporter": "python",
   "pygments_lexer": "ipython3",
   "version": "3.9.6"
  },
  "orig_nbformat": 4
 },
 "nbformat": 4,
 "nbformat_minor": 2
}
