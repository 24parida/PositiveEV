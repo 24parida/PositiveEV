{
 "cells": [
  {
   "cell_type": "code",
   "execution_count": 106,
   "metadata": {},
   "outputs": [
    {
     "data": {
      "text/plain": [
       "'\\n5-leg simulator\\nmoney:\\n$ per parlay\\n% ev:\\n'"
      ]
     },
     "execution_count": 106,
     "metadata": {},
     "output_type": "execute_result"
    }
   ],
   "source": [
    "import random\n",
    "import numpy as np\n",
    "import pandas as pd\n",
    "import locale\n",
    "\n",
    "locale.setlocale(locale.LC_ALL, 'en_US')\n",
    "\n",
    "'''\n",
    "5-leg simulator\n",
    "money:\n",
    "$ per parlay\n",
    "% ev:\n",
    "'''"
   ]
  },
  {
   "cell_type": "code",
   "execution_count": 107,
   "metadata": {},
   "outputs": [
    {
     "name": "stdout",
     "output_type": "stream",
     "text": [
      "The amount of bankroll is: 10000\n",
      "The number of bets placed is: 365\n",
      "The amount of money bet per parlay is: 397\n",
      "The expected value is: 5.5\n",
      "The number of simulations is: 10000\n"
     ]
    }
   ],
   "source": [
    "money = 10000 # Bankroll\n",
    "ev = 5.5 # Edge\n",
    "\n",
    "# For deciding the kcb_multiplier\n",
    "# 1.0 is the standard\n",
    "# 0.5 is what OddsJam uses\n",
    "# 0.25 is pretty safe usually\n",
    "# 0.03125 guarantees 10.5% ROI (S&P AVG)\n",
    "kcb_multiplier = 1.0 # Kelly criterion bet multiplier\n",
    "kcb = 0.0397 # Kelly criterion optimal bet\n",
    "kcb = kcb * kcb_multiplier\n",
    "\n",
    "amount_to_bet_per_parlay = int(money*kcb) # This should be determined by inputting the EV and the bankroll into the Kelly Criterion calculator\n",
    "number_of_bets = 365 # Assume we place a bet every day for a year\n",
    "\n",
    "simulations = 10000\n",
    "\n",
    "print(\"The amount of bankroll is: \" + str(money))\n",
    "print(\"The number of bets placed is: \" + str(number_of_bets))\n",
    "print(\"The amount of money bet per parlay is: \" + str(amount_to_bet_per_parlay))\n",
    "print(\"The expected value is: \" + str(ev))\n",
    "print(\"The number of simulations is: \" + str(simulations))\n"
   ]
  },
  {
   "cell_type": "code",
   "execution_count": 108,
   "metadata": {},
   "outputs": [],
   "source": [
    "profits = []\n",
    "\n",
    "for i in range(simulations):\n",
    "\n",
    "    profit = 0\n",
    "\n",
    "    for i in range(number_of_bets):\n",
    "        leg1 = random.randint(0,1000)\n",
    "        leg2 = random.randint(0,1000)\n",
    "        leg3 = random.randint(0,1000)\n",
    "        leg4 = random.randint(0,1000)\n",
    "        leg5 = random.randint(0,1000)\n",
    "\n",
    "        legs = [leg1, leg2, leg3, leg4, leg5]\n",
    "        kept_legs = [i for i in legs if i < ((50+ev) * 10)]\n",
    "\n",
    "        if len(kept_legs) < 3:\n",
    "            profit += -1 * amount_to_bet_per_parlay\n",
    "        elif len(kept_legs) == 3:\n",
    "            profit += (amount_to_bet_per_parlay * 0.4) - amount_to_bet_per_parlay\n",
    "        elif len(kept_legs) == 4:\n",
    "            profit += (amount_to_bet_per_parlay * 2) - amount_to_bet_per_parlay\n",
    "        elif len(kept_legs) == 5:\n",
    "            profit += (amount_to_bet_per_parlay * 10) - amount_to_bet_per_parlay\n",
    "    \n",
    "    profits.append(profit)\n",
    "        "
   ]
  },
  {
   "cell_type": "code",
   "execution_count": 109,
   "metadata": {},
   "outputs": [
    {
     "name": "stdout",
     "output_type": "stream",
     "text": [
      "count    10000.000000\n",
      "mean     11465.518800\n",
      "std      16848.249291\n",
      "min     -46766.600000\n",
      "25%        -79.400000\n",
      "50%      11036.600000\n",
      "75%      22470.200000\n",
      "max      76938.600000\n",
      "dtype: float64\n"
     ]
    },
    {
     "data": {
      "image/png": "[encoded data removed]",
      "text/plain": [
       "<Figure size 640x480 with 1 Axes>"
      ]
     },
     "metadata": {},
     "output_type": "display_data"
    },
    {
     "name": "stdout",
     "output_type": "stream",
     "text": [
      "The 95% confidence interval is: -$15,173.34 to $39,779.40\n",
      "In terms of ROI, the 95% confidence interval is: -152.0% to 398.0%\n",
      "The percentage of outcomes where money is won is: 75.0%\n",
      "The percentage of outcomes where money is lost is: 25.0%\n"
     ]
    }
   ],
   "source": [
    "# show 5 number summary\n",
    "print(pd.Series(profits).describe())\n",
    "\n",
    "# show distribution of profits\n",
    "import matplotlib.pyplot as plt\n",
    "plt.hist(profits, bins=100)\n",
    "plt.show()\n",
    "\n",
    "# get 95% interval\n",
    "fifth_percentile = np.percentile(profits, 5)\n",
    "ninetyfifth_percentile = np.percentile(profits, 95)\n",
    "print(\"The 95% confidence interval is: \" + str(locale.currency(round(fifth_percentile, 2), grouping=True)) + \" to \" + str(locale.currency(round(ninetyfifth_percentile, 2), grouping=True)))\n",
    "print(\"In terms of ROI, the 95% confidence interval is: \" + str(round(fifth_percentile/money, 2)*100) + '%' + \" to \" + str(round(ninetyfifth_percentile/money, 2)*100) + \"%\")\n",
    "\n",
    "# get the percentage of outcomes where money is won\n",
    "wins = [i for i in profits if i > 0]\n",
    "\n",
    "print(\"The percentage of outcomes where money is won is: \" + str(round(len(wins)/len(profits), 2)*100) + \"%\")\n",
    "\n",
    "# get the percentage of outcomes where money is lost\n",
    "losses = [i for i in profits if i < 0]\n",
    "\n",
    "print(\"The percentage of outcomes where money is lost is: \" + str(round(len(losses)/len(profits), 2)*100) + \"%\")\n",
    "\n",
    "\n",
    "\n",
    "\n"
   ]
  },
  {
   "cell_type": "code",
   "execution_count": null,
   "metadata": {},
   "outputs": [],
   "source": []
  }
 ],
 "metadata": {
  "kernelspec": {
   "display_name": "base",
   "language": "python",
   "name": "python3"
  },
  "language_info": {
   "codemirror_mode": {
    "name": "ipython",
    "version": 3
   },
   "file_extension": ".py",
   "mimetype": "text/x-python",
   "name": "python",
   "nbconvert_exporter": "python",
   "pygments_lexer": "ipython3",
   "version": "3.9.6"
  },
  "orig_nbformat": 4
 },
 "nbformat": 4,
 "nbformat_minor": 2
}
