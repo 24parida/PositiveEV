{
 "cells": [
  {
   "cell_type": "markdown",
   "metadata": {},
   "source": [
    "According to Wikipedia(https://en.wikipedia.org/wiki/Kelly_criterion), the version of the Kelly criterion formula that allows for partial losses is\n",
    "\n",
    "f = (p/a) - (q/b)\n",
    "\n",
    "where\n",
    "\n",
    "- f is the fraction of the assets to apply to the security.\n",
    "- p is the probability that the investment increases in value.\n",
    "- q is the probability that the investment decreases in value (q = (1 - p))\n",
    "- a is the fraction that is lost in a negative outcome\n",
    "- b is the fraction that is gained in a positive outcome\n",
    "\n",
    "Now, we need to calculate these figures and input them into the above formula to determine the optimal bet size."
   ]
  },
  {
   "cell_type": "code",
   "execution_count": 13,
   "metadata": {},
   "outputs": [
    {
     "name": "stdout",
     "output_type": "stream",
     "text": [
      "The probability of losing all the money is 0.3977\n",
      "The probability of losing 60% of the money is 0.3385\n",
      "The probability of doubling the bet is 0.2111\n",
      "The probability of 10x-ing the bet is 0.0527\n",
      "The fraction to bet as per the Kelly Criterion is 0.0397\n",
      "p/a = (0.2638/0.8161)\n",
      "q/b = (0.7362/2.5971)\n"
     ]
    }
   ],
   "source": [
    "EV = 5.5\n",
    "\n",
    "p_leg = 0.5 + (EV / 100) # The probability of winning is 50% + the expected value (or edge over the house)\n",
    "q_leg = 1 - p_leg # The probability of losing is 1 - the probability of winning\n",
    "\n",
    "# The scenario where you lose all the money is the scenario where you win less than 3 of the 5 legs.\n",
    "# The probability of winning less than 3 of the 5 legs is the sum of the probabilities of winning 0, 1, or 2 legs.\n",
    "# The probability of winning 0 legs is q^5.\n",
    "# The probability of winning 1 leg is C(5, 1) * p * q^4.\n",
    "# The probability of winning 2 legs is C(5, 2) * p^2 * q^3.\n",
    "# The probability of losing all the money is the sum of these three probabilities.\n",
    "prob_lose_all = q_leg**5 + (5 * p_leg * q_leg**4) + (10 * p_leg**2 * q_leg**3)\n",
    "\n",
    "print(\"The probability of losing all the money is\", round(prob_lose_all, 4))\n",
    "\n",
    "# The scenario where you lose 60% of the money is the scenario where you win 3 of the 5 legs.\n",
    "# The probability of winning 3 legs is C(5, 3) * p^3 * q^2.\n",
    "prob_lose_60 = 10 * p_leg**3 * q_leg**2\n",
    "\n",
    "print(\"The probability of losing 60% of the money is\", round(prob_lose_60, 4))\n",
    "\n",
    "# The scenario where you double the bet is the scenario where you win 4 of the 5 legs.\n",
    "# The probability of winning 4 legs is C(5, 4) * p^4 * q.\n",
    "prob_double = 5 * p_leg**4 * q_leg\n",
    "\n",
    "print(\"The probability of doubling the bet is\", round(prob_double, 4))\n",
    "\n",
    "# The scenario where you 10x the bet is the scenario where you win all 5 legs.\n",
    "# The probability of winning all 5 legs is p^5.\n",
    "prob_10x = p_leg**5\n",
    "\n",
    "print(\"The probability of 10x-ing the bet is\", round(prob_10x, 4))\n",
    "\n",
    "# The expected value is the sum of the probabilities of each scenario multiplied by the amount of money you have after each scenario.\n",
    "# The probability that the investment grows in value is the sum of the probabilities of the scenarios where you double or 10x the bet.\n",
    "p_parlay = prob_double + prob_10x\n",
    "b = 1*(prob_double/(prob_double + prob_10x)) + 9*(prob_10x/(prob_double + prob_10x)) # The amount of money you have after the investment grows in value. This is a weighted average of the amount of money you have after each scenario.\n",
    "\n",
    "# The probability that the investment loses money is the sum of the probabilities of the scenarios where you lose all the money or lose 60% of the money.\n",
    "q_parlay = prob_lose_all + prob_lose_60\n",
    "a = 1*(prob_lose_all/(prob_lose_all + prob_lose_60)) + 0.6*(prob_lose_60/(prob_lose_all + prob_lose_60)) # The amount of money you have after the investment loses money. This is a weighted average of the amount of money you have after each scenario.\n",
    "\n",
    "# The fraction to bet as per the Kelly Criterion is f = (p/a) - (q/b)\n",
    "f = (p_parlay/a) - (q_parlay/b)\n",
    "\n",
    "print(\"The fraction to bet as per the Kelly Criterion is\", round(f, 4))\n",
    "print(\"p/a =\", \"(\" + str(round(p_parlay, 4)) + \"/\" + str(round(a, 4)) + \")\")\n",
    "print(\"q/b =\", \"(\" + str(round(q_parlay, 4)) + \"/\" + str(round(b, 4)) + \")\")"
   ]
  }
 ],
 "metadata": {
  "kernelspec": {
   "display_name": "Python 3",
   "language": "python",
   "name": "python3"
  },
  "language_info": {
   "codemirror_mode": {
    "name": "ipython",
    "version": 3
   },
   "file_extension": ".py",
   "mimetype": "text/x-python",
   "name": "python",
   "nbconvert_exporter": "python",
   "pygments_lexer": "ipython3",
   "version": "3.9.6"
  }
 },
 "nbformat": 4,
 "nbformat_minor": 2
}
