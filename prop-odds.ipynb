{
 "cells": [
  {
   "cell_type": "code",
   "execution_count": 1,
   "metadata": {},
   "outputs": [],
   "source": [
    "import requests\n",
    "import urllib\n",
    "from datetime import datetime\n",
    "\n",
    "BASE_URL = 'https://api.prop-odds.com'\n",
    "API_KEY = 'qL5VXnhAyK6cLbKzpD45yfLKdMzoCcepZXQJWs2o'\n",
    "\n",
    "\n",
    "def get_request(url):\n",
    "    response = requests.get(url)\n",
    "    if response.status_code == 200:\n",
    "        return response.json()\n",
    "\n",
    "    print('Request failed with status:', response.status_code)\n",
    "    return {}\n",
    "\n",
    "\n",
    "def get_nba_games():\n",
    "    now = datetime.now()\n",
    "    query_params = {\n",
    "        'date': now.strftime('%Y-%m-%d'),\n",
    "        'tz': 'America/New_York',\n",
    "        'api_key': API_KEY,\n",
    "    }\n",
    "    params = urllib.parse.urlencode(query_params)\n",
    "    url = BASE_URL + '/beta/games/nba?' + params\n",
    "    return get_request(url)\n",
    "\n",
    "\n",
    "def get_game_info(game_id):\n",
    "    query_params = {\n",
    "        'api_key': API_KEY,\n",
    "    }\n",
    "    params = urllib.parse.urlencode(query_params)\n",
    "    url = BASE_URL + '/beta/game/' + game_id + '?' + params\n",
    "    return get_request(url)\n",
    "\n",
    "\n",
    "def get_markets(game_id):\n",
    "    query_params = {\n",
    "        'api_key': API_KEY,\n",
    "    }\n",
    "    params = urllib.parse.urlencode(query_params)\n",
    "    url = BASE_URL + '/beta/markets/' + game_id + '?' + params\n",
    "    return get_request(url)\n",
    "\n",
    "\n",
    "def get_most_recent_odds(game_id, market):\n",
    "    query_params = {\n",
    "        'api_key': API_KEY,\n",
    "    }\n",
    "    params = urllib.parse.urlencode(query_params)\n",
    "    url = BASE_URL + '/beta/odds/' + game_id + '/' + market + '?' + params\n",
    "    return get_request(url)\n"
   ]
  },
  {
   "cell_type": "code",
   "execution_count": 2,
   "metadata": {},
   "outputs": [],
   "source": [
    "games = get_nba_games()\n",
    "game_ids = [i['game_id'] for i in games['games']]"
   ]
  },
  {
   "cell_type": "code",
   "execution_count": 3,
   "metadata": {},
   "outputs": [],
   "source": [
    "games = [i['home_team'] for i in games['games']]"
   ]
  },
  {
   "cell_type": "code",
   "execution_count": 5,
   "metadata": {},
   "outputs": [
    {
     "data": {
      "text/plain": [
       "'0772628ff4508cad72771de712a60dfd'"
      ]
     },
     "execution_count": 5,
     "metadata": {},
     "output_type": "execute_result"
    }
   ],
   "source": [
    "game_ids[-1]"
   ]
  },
  {
   "cell_type": "code",
   "execution_count": 6,
   "metadata": {},
   "outputs": [
    {
     "data": {
      "text/plain": [
       "{'league': 'nba',\n",
       " 'game': {'game_id': '0772628ff4508cad72771de712a60dfd',\n",
       "  'away_team': 'Sacramento Kings',\n",
       "  'home_team': 'Dallas Mavericks',\n",
       "  'start_timestamp': '2024-01-28T02:00:00Z',\n",
       "  'participants': []}}"
      ]
     },
     "execution_count": 6,
     "metadata": {},
     "output_type": "execute_result"
    }
   ],
   "source": [
    "get_game_info(\"0772628ff4508cad72771de712a60dfd\")"
   ]
  },
  {
   "cell_type": "code",
   "execution_count": null,
   "metadata": {},
   "outputs": [],
   "source": []
  }
 ],
 "metadata": {
  "kernelspec": {
   "display_name": "base",
   "language": "python",
   "name": "python3"
  },
  "language_info": {
   "codemirror_mode": {
    "name": "ipython",
    "version": 3
   },
   "file_extension": ".py",
   "mimetype": "text/x-python",
   "name": "python",
   "nbconvert_exporter": "python",
   "pygments_lexer": "ipython3",
   "version": "3.9.12"
  },
  "orig_nbformat": 4
 },
 "nbformat": 4,
 "nbformat_minor": 2
}
