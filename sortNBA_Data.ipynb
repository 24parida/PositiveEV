{
 "cells": [
  {
   "cell_type": "code",
   "execution_count": 1,
   "metadata": {
    "collapsed": true
   },
   "outputs": [
    {
     "name": "stderr",
     "output_type": "stream",
     "text": [
      "/var/folders/l2/3rlb181n59v6czltkxgq_02m0000gn/T/ipykernel_18659/4080736814.py:1: DeprecationWarning: \n",
      "Pyarrow will become a required dependency of pandas in the next major release of pandas (pandas 3.0),\n",
      "(to allow more performant data types, such as the Arrow string type, and better interoperability with other libraries)\n",
      "but was not found to be installed on your system.\n",
      "If this would cause problems for you,\n",
      "please provide us feedback at https://github.com/pandas-dev/pandas/issues/54466\n",
      "        \n",
      "  import pandas as pd\n"
     ]
    }
   ],
   "source": [
    "import pandas as pd"
   ]
  },
  {
   "cell_type": "code",
   "execution_count": 2,
   "metadata": {},
   "outputs": [],
   "source": [
    "import os\n",
    "import shutil\n",
    "folder_path = \"NBA_DATA\"\n",
    "files = os.listdir(folder_path)\n",
    "\n",
    "# Create separate folders for files containing \"books\" in the file name\n",
    "for file in files:\n",
    "    if \"books\" in file:\n",
    "        destination_folder = os.path.join(folder_path, \"books\")\n",
    "    else:\n",
    "        destination_folder = os.path.join(folder_path, \"other\")\n",
    "    \n",
    "    # Create the destination folder if it doesn't exist\n",
    "    if not os.path.exists(destination_folder):\n",
    "        os.makedirs(destination_folder)\n",
    "    \n",
    "    # Move the file to the destination folder\n",
    "    shutil.move(os.path.join(folder_path, file), os.path.join(destination_folder, file))\n"
   ]
  },
  {
   "cell_type": "code",
   "execution_count": 3,
   "metadata": {},
   "outputs": [],
   "source": [
    "import os\n",
    "import shutil\n",
    "\n",
    "folder_path = \"NBA_DATA/books\"\n",
    "files = os.listdir(folder_path)\n",
    "\n",
    "# Create separate folders for each unique date\n",
    "for file in files:\n",
    "    # Extract the date from the file name\n",
    "    date = file.split(\"__\")[1]\n",
    "    \n",
    "    # Create the destination folder based on the date\n",
    "    destination_folder = os.path.join(folder_path, date)\n",
    "    \n",
    "    # Create the destination folder if it doesn't exist\n",
    "    if not os.path.exists(destination_folder):\n",
    "        os.makedirs(destination_folder)\n",
    "    \n",
    "    # Move the file to the destination folder\n",
    "    shutil.move(os.path.join(folder_path, file), os.path.join(destination_folder, file))\n"
   ]
  },
  {
   "cell_type": "code",
   "execution_count": null,
   "metadata": {},
   "outputs": [],
   "source": [
    "import os\n",
    "import shutil\n",
    "\n",
    "folder_path = \"NBA_DATA/other\"\n",
    "files = os.listdir(folder_path)\n",
    "\n",
    "# Create separate folders for each unique date\n",
    "for file in files:\n",
    "    # Extract the date from the file name\n",
    "    date = file.split(\"__\")[1]\n",
    "    \n",
    "    # Create the destination folder based on the date\n",
    "    destination_folder = os.path.join(folder_path, date)\n",
    "    \n",
    "    # Create the destination folder if it doesn't exist\n",
    "    if not os.path.exists(destination_folder):\n",
    "        os.makedirs(destination_folder)\n",
    "    \n",
    "    # Move the file to the destination folder\n",
    "    shutil.move(os.path.join(folder_path, file), os.path.join(destination_folder, file))"
   ]
  },
  {
   "cell_type": "code",
   "execution_count": 1,
   "metadata": {},
   "outputs": [],
   "source": [
    "import os\n",
    "import shutil\n",
    "\n",
    "folder_path = \"NBA_DATA/other\"\n",
    "folders = os.listdir(folder_path)\n",
    "\n",
    "# Iterate over each folder\n",
    "for folder in folders:\n",
    "    folder_files = os.listdir(os.path.join(folder_path, folder))\n",
    "    \n",
    "    # Create separate folders for each unique market_name\n",
    "    for file in folder_files:\n",
    "        # Extract the market_name from the file name\n",
    "        market_name = file.split(\"__\")[3]\n",
    "        \n",
    "        # Create the destination folder based on the market_name\n",
    "        destination_folder = os.path.join(folder_path, folder, market_name)\n",
    "        \n",
    "        # Create the destination folder if it doesn't exist\n",
    "        if not os.path.exists(destination_folder):\n",
    "            os.makedirs(destination_folder)\n",
    "        \n",
    "        # Move the file to the destination folder\n",
    "        shutil.move(os.path.join(folder_path, folder, file), os.path.join(destination_folder, file))\n"
   ]
  },
  {
   "cell_type": "code",
   "execution_count": null,
   "metadata": {},
   "outputs": [],
   "source": [
    "import os\n",
    "import shutil\n",
    "\n",
    "folder_path = \"NBA_DATA/books\"\n",
    "folders = os.listdir(folder_path)\n",
    "\n",
    "# Iterate over each folder\n",
    "for folder in folders:\n",
    "    folder_files = os.listdir(os.path.join(folder_path, folder))\n",
    "    \n",
    "    # Create separate folders for each unique market_name\n",
    "    for file in folder_files:\n",
    "        # Extract the market_name from the file name\n",
    "        market_name = file.split(\"__\")[3]\n",
    "        \n",
    "        # Create the destination folder based on the market_name\n",
    "        destination_folder = os.path.join(folder_path, folder, market_name)\n",
    "        \n",
    "        # Create the destination folder if it doesn't exist\n",
    "        if not os.path.exists(destination_folder):\n",
    "            os.makedirs(destination_folder)\n",
    "        \n",
    "        # Move the file to the destination folder\n",
    "        shutil.move(os.path.join(folder_path, folder, file), os.path.join(destination_folder, file))\n"
   ]
  },
  {
   "cell_type": "code",
   "execution_count": 1,
   "metadata": {},
   "outputs": [],
   "source": [
    "import os\n",
    "\n",
    "folder_path = \"NBA_DATA/other\"\n",
    "subfolders = os.listdir(folder_path)\n",
    "\n",
    "# Iterate over each subfolder\n",
    "for subfolder in subfolders:\n",
    "    subfolder_path = os.path.join(folder_path, subfolder)\n",
    "    \n",
    "    # Check if the subfolder is a directory\n",
    "    if os.path.isdir(subfolder_path):\n",
    "        subsubfolders = os.listdir(subfolder_path)\n",
    "        \n",
    "        # Iterate over each subsubfolder\n",
    "        for subsubfolder in subsubfolders:\n",
    "            subsubfolder_path = os.path.join(subfolder_path, subsubfolder)\n",
    "            \n",
    "            # Check if the subsubfolder is a directory\n",
    "            if os.path.isdir(subsubfolder_path):\n",
    "                new_subsubfolder_name = subsubfolder.replace(\".json\", \"\")\n",
    "                new_subsubfolder_path = os.path.join(subfolder_path, new_subsubfolder_name)\n",
    "                \n",
    "                # Rename the subsubfolder\n",
    "                os.rename(subsubfolder_path, new_subsubfolder_path)\n"
   ]
  },
  {
   "cell_type": "code",
   "execution_count": null,
   "metadata": {},
   "outputs": [],
   "source": [
    "import os\n",
    "\n",
    "folder_path = \"NBA_DATA/books\"\n",
    "subfolders = os.listdir(folder_path)\n",
    "\n",
    "# Iterate over each subfolder\n",
    "for subfolder in subfolders:\n",
    "    subfolder_path = os.path.join(folder_path, subfolder)\n",
    "    \n",
    "    # Check if the subfolder is a directory\n",
    "    if os.path.isdir(subfolder_path):\n",
    "        subsubfolders = os.listdir(subfolder_path)\n",
    "        \n",
    "        # Iterate over each subsubfolder\n",
    "        for subsubfolder in subsubfolders:\n",
    "            subsubfolder_path = os.path.join(subfolder_path, subsubfolder)\n",
    "            \n",
    "            # Check if the subsubfolder is a directory\n",
    "            if os.path.isdir(subsubfolder_path):\n",
    "                new_subsubfolder_name = subsubfolder.replace(\".json\", \"\")\n",
    "                new_subsubfolder_path = os.path.join(subfolder_path, new_subsubfolder_name)\n",
    "                \n",
    "                # Rename the subsubfolder\n",
    "                os.rename(subsubfolder_path, new_subsubfolder_path)\n"
   ]
  }
 ],
 "metadata": {
  "kernelspec": {
   "display_name": "Python 3",
   "language": "python",
   "name": "python3"
  },
  "language_info": {
   "codemirror_mode": {
    "name": "ipython",
    "version": 3
   },
   "file_extension": ".py",
   "mimetype": "text/x-python",
   "name": "python",
   "nbconvert_exporter": "python",
   "pygments_lexer": "ipython3",
   "version": "3.9.6"
  }
 },
 "nbformat": 4,
 "nbformat_minor": 0
}
