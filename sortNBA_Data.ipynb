{
 "cells": [
  {
   "cell_type": "code",
   "execution_count": 1,
   "metadata": {
    "collapsed": true
   },
   "outputs": [
    {
     "name": "stderr",
     "output_type": "stream",
     "text": [
      "/var/folders/l2/3rlb181n59v6czltkxgq_02m0000gn/T/ipykernel_18659/4080736814.py:1: DeprecationWarning: \n",
      "Pyarrow will become a required dependency of pandas in the next major release of pandas (pandas 3.0),\n",
      "(to allow more performant data types, such as the Arrow string type, and better interoperability with other libraries)\n",
      "but was not found to be installed on your system.\n",
      "If this would cause problems for you,\n",
      "please provide us feedback at https://github.com/pandas-dev/pandas/issues/54466\n",
      "        \n",
      "  import pandas as pd\n"
     ]
    }
   ],
   "source": [
    "import pandas as pd"
   ]
  },
  {
   "cell_type": "code",
   "execution_count": 2,
   "metadata": {},
   "outputs": [],
   "source": [
    "import os\n",
    "import shutil\n",
    "folder_path = \"NBA_DATA\"\n",
    "files = os.listdir(folder_path)\n",
    "\n",
    "# Create separate folders for files containing \"books\" in the file name\n",
    "for file in files:\n",
    "    if \"books\" in file:\n",
    "        destination_folder = os.path.join(folder_path, \"books\")\n",
    "    else:\n",
    "        destination_folder = os.path.join(folder_path, \"other\")\n",
    "    \n",
    "    # Create the destination folder if it doesn't exist\n",
    "    if not os.path.exists(destination_folder):\n",
    "        os.makedirs(destination_folder)\n",
    "    \n",
    "    # Move the file to the destination folder\n",
    "    shutil.move(os.path.join(folder_path, file), os.path.join(destination_folder, file))\n"
   ]
  },
  {
   "cell_type": "code",
   "execution_count": 3,
   "metadata": {},
   "outputs": [],
   "source": [
    "import os\n",
    "import shutil\n",
    "\n",
    "folder_path = \"NBA_DATA/books\"\n",
    "files = os.listdir(folder_path)\n",
    "\n",
    "# Create separate folders for each unique date\n",
    "for file in files:\n",
    "    # Extract the date from the file name\n",
    "    date = file.split(\"__\")[1]\n",
    "    \n",
    "    # Create the destination folder based on the date\n",
    "    destination_folder = os.path.join(folder_path, date)\n",
    "    \n",
    "    # Create the destination folder if it doesn't exist\n",
    "    if not os.path.exists(destination_folder):\n",
    "        os.makedirs(destination_folder)\n",
    "    \n",
    "    # Move the file to the destination folder\n",
    "    shutil.move(os.path.join(folder_path, file), os.path.join(destination_folder, file))\n"
   ]
  },
  {
   "cell_type": "code",
   "execution_count": null,
   "metadata": {},
   "outputs": [],
   "source": [
    "import os\n",
    "import shutil\n",
    "\n",
    "folder_path = \"NBA_DATA/other\"\n",
    "files = os.listdir(folder_path)\n",
    "\n",
    "# Create separate folders for each unique date\n",
    "for file in files:\n",
    "    # Extract the date from the file name\n",
    "    date = file.split(\"__\")[1]\n",
    "    \n",
    "    # Create the destination folder based on the date\n",
    "    destination_folder = os.path.join(folder_path, date)\n",
    "    \n",
    "    # Create the destination folder if it doesn't exist\n",
    "    if not os.path.exists(destination_folder):\n",
    "        os.makedirs(destination_folder)\n",
    "    \n",
    "    # Move the file to the destination folder\n",
    "    shutil.move(os.path.join(folder_path, file), os.path.join(destination_folder, file))"
   ]
  }
 ],
 "metadata": {
  "kernelspec": {
   "display_name": "Python 3",
   "language": "python",
   "name": "python3"
  },
  "language_info": {
   "codemirror_mode": {
    "name": "ipython",
    "version": 3
   },
   "file_extension": ".py",
   "mimetype": "text/x-python",
   "name": "python",
   "nbconvert_exporter": "python",
   "pygments_lexer": "ipython3",
   "version": "3.9.6"
  }
 },
 "nbformat": 4,
 "nbformat_minor": 0
}
