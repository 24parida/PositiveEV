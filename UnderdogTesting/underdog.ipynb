{
 "cells": [
  {
   "cell_type": "code",
   "execution_count": 1,
   "metadata": {},
   "outputs": [
    {
     "name": "stdout",
     "output_type": "stream",
     "text": [
      "      League      Player Name             Market  Value\n",
      "0        NBA    Kawhi Leonard          1Q Points    8.5\n",
      "1        NBA    Kawhi Leonard             Points   26.5\n",
      "2        NBA    Kawhi Leonard  Pts + Rebs + Asts   37.5\n",
      "3        NBA    Kawhi Leonard            Assists    3.5\n",
      "4        NBA    Kawhi Leonard           Rebounds    7.0\n",
      "...      ...              ...                ...    ...\n",
      "3898  MLBSZN    Adolis García                HRs   32.5\n",
      "3899  MLBSZN  Elly De La Cruz                HRs   22.5\n",
      "3900  MLBSZN      Luis Arraez               Hits  182.5\n",
      "3901  MLBSZN  Elly de la Cruz       Stolen Bases   45.5\n",
      "3902  MLBSZN     Esteury Ruiz       Stolen Bases   56.5\n",
      "\n",
      "[3903 rows x 4 columns]\n"
     ]
    }
   ],
   "source": [
    "import json\n",
    "import requests\n",
    "import pandas as pd\n",
    "from collections import defaultdict\n",
    "\n",
    "\n",
    "ok = requests.get('https://api.underdogfantasy.com/beta/v5/over_under_lines')\n",
    "data = ok.json()\n",
    "\n",
    "\n",
    "player_data_list2 = []\n",
    "data_dict2 = defaultdict(list)\n",
    "for i in range(0,len(data['over_under_lines'])):\n",
    "    multiplier = (data['over_under_lines'][i]['options'][0]['payout_multiplier'])\n",
    "    if multiplier == '1.0':\n",
    "        bigname = (data['over_under_lines'][i]['over_under']['title'])\n",
    "        stat = (data['over_under_lines'][i]['over_under']['appearance_stat']['display_stat'])\n",
    "        #statid = (data['over_under_lines'][i]['over_under']['appearance_stat']['pickem_stat_id'])\n",
    "        appearanceid = (data['over_under_lines'][i]['over_under']['appearance_stat']['appearance_id'])\n",
    "        for entry in data['appearances']:\n",
    "            if entry['id'] == appearanceid:\n",
    "                playerid = entry['player_id']\n",
    "        for entry in data['players']:\n",
    "            if entry['id'] == playerid:\n",
    "                sport = entry['sport_id']\n",
    "        result = bigname.replace(stat, '').replace(' O/U', '').strip()\n",
    "\n",
    "        line = (data['over_under_lines'][i]['stat_value'])\n",
    "\n",
    "        player_data = {\n",
    "            \"Name\": result,\n",
    "            \"League\": sport,\n",
    "            \"Player Props\": stat,\n",
    "            \"Value\": line\n",
    "        }\n",
    "        player_data_list2.append(player_data)\n",
    "\n",
    "\n",
    "for player_info in player_data_list2:\n",
    "    league = player_info[\"League\"]\n",
    "    player_name = player_info[\"Name\"]\n",
    "    prop = player_info['Player Props']\n",
    "    value = player_info['Value']\n",
    "    data_dict2[\"League\"].append(league)\n",
    "    data_dict2[\"Player Name\"].append(player_name)\n",
    "    data_dict2[\"Market\"].append(prop)\n",
    "    data_dict2[\"Value\"].append(value)\n",
    "\n",
    "df2 = pd.DataFrame(data_dict2)\n",
    "print(df2)"
   ]
  },
  {
   "cell_type": "code",
   "execution_count": 2,
   "metadata": {},
   "outputs": [
    {
     "data": {
      "text/plain": [
       "'Rebounds'"
      ]
     },
     "execution_count": 2,
     "metadata": {},
     "output_type": "execute_result"
    }
   ],
   "source": [
    "df2 = df2[df2['League'] == 'NBA']\n",
    "df2['Market'].unique()[4]"
   ]
  },
  {
   "cell_type": "code",
   "execution_count": null,
   "metadata": {},
   "outputs": [],
   "source": []
  },
  {
   "cell_type": "code",
   "execution_count": 3,
   "metadata": {},
   "outputs": [
    {
     "data": {
      "text/plain": [
       "array(['1Q Points', 'Points', 'Pts + Rebs + Asts', 'Assists', 'Rebounds',\n",
       "       'Rebounds + Assists', '3-Pointers Made', 'Points + Assists',\n",
       "       'Points + Rebounds', '1Q Assists', 'Turnovers', 'Blocks + Steals',\n",
       "       'Steals', 'Blocks', '1Q Rebounds', 'Double Doubles'], dtype=object)"
      ]
     },
     "execution_count": 3,
     "metadata": {},
     "output_type": "execute_result"
    }
   ],
   "source": [
    "df2['Market'].unique()"
   ]
  },
  {
   "cell_type": "code",
   "execution_count": 4,
   "metadata": {},
   "outputs": [],
   "source": [
    "df2['markets'] = df2['Market']\n"
   ]
  },
  {
   "cell_type": "code",
   "execution_count": 20,
   "metadata": {},
   "outputs": [],
   "source": [
    "df2 = df2[~df2['markets'].str.contains(\"1Q\")]\n",
    "df2 = df2[~df2['markets'].str.contains(\"1H\")]\n",
    "\n",
    "df2['markets'] = df2['markets'].str.replace('Double Doubles','double')\n",
    "df2['markets'] = df2['markets'].str.replace('3-Pointers Made','threes')\n",
    "df2['markets'] = df2['markets'].str.replace('+','-', regex=False)\n",
    "df2['markets'] = df2['markets'].str.replace(' ','')\n",
    "\n",
    "df2['markets'] = df2['markets'].str.replace('pts-rebs-asts','assists_points_rebounds')\n",
    "df2['markets'] = df2['markets'].str.replace('rebounds-assists','assists_rebounds')\n",
    "df2['markets'] = df2['markets'].str.replace('points-assists','assists_points')\n",
    "df2['markets'] = df2['markets'].str.replace('points-rebounds','points_rebounds')\n",
    "df2['markets'] = df2['markets'].str.replace('blocks-steals','blocks_steals')\n",
    "\n",
    "df2['markets'] = df2['markets'].str.lower()"
   ]
  },
  {
   "cell_type": "code",
   "execution_count": 21,
   "metadata": {},
   "outputs": [
    {
     "data": {
      "text/plain": [
       "array(['points', 'assists_points_rebounds', 'assists', 'rebounds',\n",
       "       'assists_rebounds', 'threes', 'assists_points', 'points_rebounds',\n",
       "       'turnovers', 'blocks_steals', 'steals', 'blocks', 'double'],\n",
       "      dtype=object)"
      ]
     },
     "execution_count": 21,
     "metadata": {},
     "output_type": "execute_result"
    }
   ],
   "source": []
  }
 ],
 "metadata": {
  "kernelspec": {
   "display_name": "base",
   "language": "python",
   "name": "python3"
  },
  "language_info": {
   "codemirror_mode": {
    "name": "ipython",
    "version": 3
   },
   "file_extension": ".py",
   "mimetype": "text/x-python",
   "name": "python",
   "nbconvert_exporter": "python",
   "pygments_lexer": "ipython3",
   "version": "3.9.12"
  },
  "orig_nbformat": 4
 },
 "nbformat": 4,
 "nbformat_minor": 2
}
