{
 "cells": [
  {
   "cell_type": "code",
   "execution_count": 5,
   "metadata": {},
   "outputs": [
    {
     "name": "stdout",
     "output_type": "stream",
     "text": [
      "      League      Player Name  Player Props  Value      Book\n",
      "0        NBA   Scottie Barnes   1Q Rebounds    2.0  Underdog\n",
      "1        NBA    DeMar DeRozan    1Q Assists    1.5  Underdog\n",
      "2        NBA       Coby White       Assists    6.0  Underdog\n",
      "3        NBA       Coby White    1Q Assists    1.5  Underdog\n",
      "4        NBA  Dennis Schroder      Rebounds    3.0  Underdog\n",
      "...      ...              ...           ...    ...       ...\n",
      "4146  MLBSZN    Adolis García           HRs   32.5  Underdog\n",
      "4147  MLBSZN  Elly De La Cruz           HRs   22.5  Underdog\n",
      "4148  MLBSZN      Luis Arraez          Hits  182.5  Underdog\n",
      "4149  MLBSZN  Elly de la Cruz  Stolen Bases   45.5  Underdog\n",
      "4150  MLBSZN     Esteury Ruiz  Stolen Bases   56.5  Underdog\n",
      "\n",
      "[4151 rows x 5 columns]\n"
     ]
    }
   ],
   "source": [
    "import json\n",
    "import requests\n",
    "import pandas as pd\n",
    "from collections import defaultdict\n",
    "\n",
    "\n",
    "ok = requests.get('https://api.underdogfantasy.com/beta/v5/over_under_lines')\n",
    "data = ok.json()\n",
    "\n",
    "\n",
    "player_data_list2 = []\n",
    "data_dict2 = defaultdict(list)\n",
    "for i in range(0,len(data['over_under_lines'])):\n",
    "    multiplier = (data['over_under_lines'][i]['options'][0]['payout_multiplier'])\n",
    "    if multiplier == '1.0':\n",
    "        bigname = (data['over_under_lines'][i]['over_under']['title'])\n",
    "        stat = (data['over_under_lines'][i]['over_under']['appearance_stat']['display_stat'])\n",
    "        #statid = (data['over_under_lines'][i]['over_under']['appearance_stat']['pickem_stat_id'])\n",
    "        appearanceid = (data['over_under_lines'][i]['over_under']['appearance_stat']['appearance_id'])\n",
    "        for entry in data['appearances']:\n",
    "            if entry['id'] == appearanceid:\n",
    "                playerid = entry['player_id']\n",
    "        for entry in data['players']:\n",
    "            if entry['id'] == playerid:\n",
    "                sport = entry['sport_id']\n",
    "        result = bigname.replace(stat, '').replace(' O/U', '').strip()\n",
    "\n",
    "        line = (data['over_under_lines'][i]['stat_value'])\n",
    "\n",
    "        player_data = {\n",
    "            \"Name\": result,\n",
    "            \"League\": sport,\n",
    "            \"Player Props\": stat,\n",
    "            \"Value\": line\n",
    "        }\n",
    "        player_data_list2.append(player_data)\n",
    "\n",
    "\n",
    "for player_info in player_data_list2:\n",
    "    league = player_info[\"League\"]\n",
    "    player_name = player_info[\"Name\"]\n",
    "    prop = player_info['Player Props']\n",
    "    value = player_info['Value']\n",
    "    data_dict2[\"League\"].append(league)\n",
    "    data_dict2[\"Player Name\"].append(player_name)\n",
    "    data_dict2[\"Player Props\"].append(prop)\n",
    "    data_dict2[\"Value\"].append(value)\n",
    "    data_dict2['Book'].append('Underdog')\n",
    "\n",
    "df2 = pd.DataFrame(data_dict2)\n",
    "print(df2)"
   ]
  },
  {
   "cell_type": "code",
   "execution_count": 9,
   "metadata": {},
   "outputs": [
    {
     "data": {
      "text/plain": [
       "array(['1Q Rebounds', '1Q Assists', 'Assists', 'Rebounds', 'Points',\n",
       "       'Pts + Rebs + Asts', 'Rebounds + Assists', '3-Pointers Made',\n",
       "       'Points + Assists', 'Points + Rebounds', '1Q Points',\n",
       "       'Blocks + Steals', '1Q Pts + Rebs + Asts', 'Fantasy Points',\n",
       "       'Turnovers', '1H Pts + Rebs + Asts', '1H Points', 'Steals',\n",
       "       'Blocks', 'Double Doubles'], dtype=object)"
      ]
     },
     "execution_count": 9,
     "metadata": {},
     "output_type": "execute_result"
    }
   ],
   "source": [
    "df2 = df2[df2['League'] == 'NBA']\n",
    "df2['Player Props'].unique()"
   ]
  }
 ],
 "metadata": {
  "kernelspec": {
   "display_name": "base",
   "language": "python",
   "name": "python3"
  },
  "language_info": {
   "codemirror_mode": {
    "name": "ipython",
    "version": 3
   },
   "file_extension": ".py",
   "mimetype": "text/x-python",
   "name": "python",
   "nbconvert_exporter": "python",
   "pygments_lexer": "ipython3",
   "version": "3.9.12"
  },
  "orig_nbformat": 4
 },
 "nbformat": 4,
 "nbformat_minor": 2
}
