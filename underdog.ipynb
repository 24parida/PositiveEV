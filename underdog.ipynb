{
 "cells": [
  {
   "cell_type": "code",
   "execution_count": 47,
   "metadata": {},
   "outputs": [],
   "source": [
    "import requests\n",
    "import urllib\n",
    "from datetime import datetime\n",
    "import pandas as pd\n",
    "\n",
    "BASE_URL = 'https://api.prop-odds.com'\n",
    "API_KEY = 'qL5VXnhAyK6cLbKzpD45yfLKdMzoCcepZXQJWs2o'\n",
    "\n",
    "\n",
    "def get_request(url):\n",
    "    response = requests.get(url)\n",
    "    if response.status_code == 200:\n",
    "        return response.json()\n",
    "\n",
    "    print('Request failed with status:', response.status_code)\n",
    "    return {}\n",
    "\n",
    "\n",
    "def get_nba_games():\n",
    "    now = datetime.now()\n",
    "    query_params = {\n",
    "        'date': now.strftime('%Y-%m-%d'),\n",
    "        'tz': 'America/New_York',\n",
    "        'api_key': API_KEY,\n",
    "    }\n",
    "    params = urllib.parse.urlencode(query_params)\n",
    "    url = BASE_URL + '/beta/games/nba?' + params\n",
    "    return get_request(url)\n",
    "\n",
    "\n",
    "def get_game_info(game_id):\n",
    "    query_params = {\n",
    "        'api_key': API_KEY,\n",
    "    }\n",
    "    params = urllib.parse.urlencode(query_params)\n",
    "    url = BASE_URL + '/beta/game/' + game_id + '?' + params\n",
    "    return get_request(url)\n",
    "\n",
    "\n",
    "def get_markets(game_id):\n",
    "    query_params = {\n",
    "        'api_key': API_KEY,\n",
    "    }\n",
    "    params = urllib.parse.urlencode(query_params)\n",
    "    url = BASE_URL + '/beta/markets/' + game_id + '?' + params\n",
    "    return get_request(url)\n",
    "\n",
    "\n",
    "\n",
    "### edited\n",
    "def get_fantasy_lines(game_id, market):\n",
    "    query_params = {\n",
    "        'api_key': API_KEY,\n",
    "    }\n",
    "\n",
    "    params = urllib.parse.urlencode(query_params)\n",
    "    url = BASE_URL + '/beta/fantasy_lines/' + game_id + '/' + market + '?' + params\n",
    "    return get_request(url)\n"
   ]
  },
  {
   "cell_type": "code",
   "execution_count": 64,
   "metadata": {},
   "outputs": [],
   "source": [
    "games = get_nba_games()\n",
    "\n",
    "first_game = games['games'][0]\n",
    "game_id = first_game['game_id']\n",
    "market = 'player_assists_over_under'\n",
    "odds = get_fantasy_lines(game_id, market)"
   ]
  },
  {
   "cell_type": "code",
   "execution_count": null,
   "metadata": {},
   "outputs": [],
   "source": [
    "ud = pd.DataFrame.from_dict(odds['fantasy_books'][2]['market']['lines'])\n",
    "ud = ud[['participant_name', 'line']]\n",
    "ud"
   ]
  },
  {
   "cell_type": "code",
   "execution_count": 70,
   "metadata": {},
   "outputs": [],
   "source": [
    "ud.to_csv(f'C:/Users/anubh\\Downloads\\datasets - eeg/oddsjam/books/ud.csv', index=None)"
   ]
  }
 ],
 "metadata": {
  "kernelspec": {
   "display_name": "base",
   "language": "python",
   "name": "python3"
  },
  "language_info": {
   "codemirror_mode": {
    "name": "ipython",
    "version": 3
   },
   "file_extension": ".py",
   "mimetype": "text/x-python",
   "name": "python",
   "nbconvert_exporter": "python",
   "pygments_lexer": "ipython3",
   "version": "3.9.12"
  },
  "orig_nbformat": 4
 },
 "nbformat": 4,
 "nbformat_minor": 2
}
