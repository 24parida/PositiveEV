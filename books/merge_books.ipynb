{
 "cells": [
  {
   "cell_type": "code",
   "execution_count": 65,
   "metadata": {},
   "outputs": [],
   "source": [
    "import pandas as pd"
   ]
  },
  {
   "cell_type": "code",
   "execution_count": 66,
   "metadata": {},
   "outputs": [],
   "source": [
    "## for 0:\n",
    "\n",
    "def process_zero(df):\n",
    "    df = df.copy()\n",
    "    df = df[['handicap', 'odds', 'name']]\n",
    "    df[['participant_name', 'name']] = df['name'].str.rsplit(' ', 1, expand=True)\n",
    "\n",
    "    df = df.dropna()\n",
    "    return df\n",
    "\n",
    "## for 1:\n",
    "\n",
    "def process_one(df):\n",
    "    df = df.copy()\n",
    "    df.dropna()\n",
    "    return df[['handicap', 'odds', 'participant_name', 'name']]\n",
    "\n",
    "## for two and six\n",
    "\n",
    "def process_two_six(df):\n",
    "    df = df.copy()\n",
    "    df = df[['handicap', 'odds', 'name']]\n",
    "\n",
    "    df[['name', 'participant_name']] = df['name'].str.split(' - ', expand=True)\n",
    "    df['participant_name'] = df['participant_name'].str.strip()\n",
    "\n",
    "    df.dropna()\n",
    "\n",
    "    return df\n",
    "\n",
    "## for three and five\n",
    "\n",
    "def process_three_five(df):\n",
    "    df = df.copy()\n",
    "    df = df[['handicap', 'odds', 'name', 'description']]\n",
    "\n",
    "    df[['participant_name', 'description', 'a']] = df['description'].str.rsplit(' ', n=2, expand=True)\n",
    "    df['participant_name'] = df['participant_name'].str.strip()\n",
    "\n",
    "    df = df.drop(columns=['description', 'a'])\n",
    "    df = df.dropna()\n",
    "\n",
    "    return df\n",
    "\n",
    "\n",
    "## for seven and eight\n",
    "\n",
    "def process_seven_eight(df):\n",
    "    df = df.copy()\n",
    "    df = df[['handicap', 'odds', 'name']]\n",
    "\n",
    "    df[['participant_name', 'name', 'a']] = df['name'].str.rsplit(' ', n=2, expand=True)\n",
    "\n",
    "    df = df.drop(columns=['a'])\n",
    "    df = df.dropna()\n",
    "\n",
    "    return df"
   ]
  },
  {
   "cell_type": "code",
   "execution_count": 70,
   "metadata": {},
   "outputs": [],
   "source": [
    "zero = pd.read_csv(\"0.csv\")\n",
    "one = pd.read_csv(\"1.csv\")\n",
    "two = pd.read_csv(\"2.csv\")\n",
    "three = pd.read_csv(\"3.csv\")\n",
    "five = pd.read_csv(\"5.csv\")\n",
    "six = pd.read_csv(\"6.csv\")\n",
    "seven = pd.read_csv(\"7.csv\")\n",
    "eight = pd.read_csv(\"8.csv\")\n",
    "\n",
    "zero = process_zero(zero)\n",
    "one = process_one(one)\n",
    "two = process_two_six(two)\n",
    "three = process_three_five(three)\n",
    "five = process_three_five(five)\n",
    "six = process_two_six(six)\n",
    "seven = process_seven_eight(seven)\n",
    "eight = process_seven_eight(eight)\n",
    "\n",
    "datasets = [zero, one, two, three, five, six, seven, eight]"
   ]
  },
  {
   "cell_type": "code",
   "execution_count": 88,
   "metadata": {},
   "outputs": [],
   "source": [
    "concat = pd.concat(datasets, axis=0)\n",
    "ud = pd.read_csv(\"ud.csv\")\n",
    "ud.columns = [ud.columns[0], 'handicap']"
   ]
  },
  {
   "cell_type": "code",
   "execution_count": 99,
   "metadata": {},
   "outputs": [],
   "source": [
    "final = pd.merge(ud, concat, how='inner', on = ['participant_name', 'handicap'])"
   ]
  },
  {
   "cell_type": "code",
   "execution_count": 111,
   "metadata": {},
   "outputs": [],
   "source": [
    "## agg\n",
    "def agg(df):    \n",
    "    result_df = df.groupby(['participant_name', 'name']).agg({'handicap': 'first', 'odds': 'mean'}).reset_index()\n",
    "    return result_df\n"
   ]
  },
  {
   "cell_type": "code",
   "execution_count": 112,
   "metadata": {},
   "outputs": [],
   "source": []
  },
  {
   "cell_type": "code",
   "execution_count": 122,
   "metadata": {},
   "outputs": [],
   "source": []
  },
  {
   "cell_type": "code",
   "execution_count": 114,
   "metadata": {},
   "outputs": [],
   "source": [
    "final = pivot(agg(final))\n",
    "final['ev']= final.apply(lambda row: calculate_odds(row['over_odds'], row['under_odds']), axis = 1)\n",
    "final = final[final['ev'] >= 4.99]"
   ]
  },
  {
   "cell_type": "code",
   "execution_count": 132,
   "metadata": {},
   "outputs": [
    {
     "data": {
      "text/html": [
       "<div>\n",
       "<style scoped>\n",
       "    .dataframe tbody tr th:only-of-type {\n",
       "        vertical-align: middle;\n",
       "    }\n",
       "\n",
       "    .dataframe tbody tr th {\n",
       "        vertical-align: top;\n",
       "    }\n",
       "\n",
       "    .dataframe thead th {\n",
       "        text-align: right;\n",
       "    }\n",
       "</style>\n",
       "<table border=\"1\" class=\"dataframe\">\n",
       "  <thead>\n",
       "    <tr style=\"text-align: right;\">\n",
       "      <th></th>\n",
       "      <th>participant_name</th>\n",
       "      <th>line</th>\n",
       "      <th>over_odds</th>\n",
       "      <th>under_odds</th>\n",
       "      <th>ev</th>\n",
       "    </tr>\n",
       "  </thead>\n",
       "  <tbody>\n",
       "    <tr>\n",
       "      <th>0</th>\n",
       "      <td>Alec Burks</td>\n",
       "      <td>1.5</td>\n",
       "      <td>160.666667</td>\n",
       "      <td>-213.333333</td>\n",
       "      <td>13.96</td>\n",
       "    </tr>\n",
       "    <tr>\n",
       "      <th>1</th>\n",
       "      <td>Bojan Bogdanovic</td>\n",
       "      <td>2.5</td>\n",
       "      <td>-28.571429</td>\n",
       "      <td>-51.142857</td>\n",
       "      <td>10.36</td>\n",
       "    </tr>\n",
       "    <tr>\n",
       "      <th>4</th>\n",
       "      <td>Tyus Jones</td>\n",
       "      <td>7.5</td>\n",
       "      <td>-130.750000</td>\n",
       "      <td>-56.125000</td>\n",
       "      <td>11.18</td>\n",
       "    </tr>\n",
       "  </tbody>\n",
       "</table>\n",
       "</div>"
      ],
      "text/plain": [
       "   participant_name  line   over_odds  under_odds     ev\n",
       "0        Alec Burks   1.5  160.666667 -213.333333  13.96\n",
       "1  Bojan Bogdanovic   2.5  -28.571429  -51.142857  10.36\n",
       "4        Tyus Jones   7.5 -130.750000  -56.125000  11.18"
      ]
     },
     "execution_count": 132,
     "metadata": {},
     "output_type": "execute_result"
    }
   ],
   "source": [
    "final"
   ]
  }
 ],
 "metadata": {
  "kernelspec": {
   "display_name": "base",
   "language": "python",
   "name": "python3"
  },
  "language_info": {
   "codemirror_mode": {
    "name": "ipython",
    "version": 3
   },
   "file_extension": ".py",
   "mimetype": "text/x-python",
   "name": "python",
   "nbconvert_exporter": "python",
   "pygments_lexer": "ipython3",
   "version": "3.9.12"
  },
  "orig_nbformat": 4
 },
 "nbformat": 4,
 "nbformat_minor": 2
}
